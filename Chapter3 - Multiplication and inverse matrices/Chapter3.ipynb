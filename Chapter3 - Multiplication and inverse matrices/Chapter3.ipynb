{
 "cells": [
  {
   "cell_type": "markdown",
   "metadata": {},
   "source": [
    "# Color Class"
   ]
  },
  {
   "cell_type": "code",
   "execution_count": 1,
   "metadata": {},
   "outputs": [],
   "source": [
    "class colors: \n",
    "    reset='\\033[0m'\n",
    "    bold='\\033[01m'\n",
    "    disable='\\033[02m'\n",
    "    underline='\\033[04m'\n",
    "    reverse='\\033[07m'\n",
    "    strikethrough='\\033[09m'\n",
    "    invisible='\\033[08m'\n",
    "    class fg: \n",
    "        black='\\033[30m'\n",
    "        red='\\033[31m'\n",
    "        green='\\033[32m'\n",
    "        orange='\\033[33m'\n",
    "        blue='\\033[34m'\n",
    "        purple='\\033[35m'\n",
    "        cyan='\\033[36m'\n",
    "        lightgrey='\\033[37m'\n",
    "        darkgrey='\\033[90m'\n",
    "        lightred='\\033[91m'\n",
    "        lightgreen='\\033[92m'\n",
    "        yellow='\\033[93m'\n",
    "        lightblue='\\033[94m'\n",
    "        pink='\\033[95m'\n",
    "        lightcyan='\\033[96m'\n",
    "    class bg: \n",
    "        black='\\033[40m'\n",
    "        red='\\033[41m'\n",
    "        green='\\033[42m'\n",
    "        orange='\\033[43m'\n",
    "        blue='\\033[44m'\n",
    "        purple='\\033[45m'\n",
    "        cyan='\\033[46m'\n",
    "        lightgrey='\\033[47m'"
   ]
  },
  {
   "cell_type": "code",
   "execution_count": 2,
   "metadata": {},
   "outputs": [
    {
     "name": "stdout",
     "output_type": "stream",
     "text": [
      "\u001b[42m SKk \u001b[31m Amartya\n",
      "\u001b[47m SKk \u001b[31m Amartya\n"
     ]
    }
   ],
   "source": [
    "print(colors.bg.green, \"SKk\", colors.fg.red, \"Amartya\") \n",
    "print(colors.bg.lightgrey, \"SKk\", colors.fg.red, \"Amartya\") "
   ]
  },
  {
   "cell_type": "markdown",
   "metadata": {},
   "source": [
    "# Chapter 3 Starts here"
   ]
  },
  {
   "cell_type": "code",
   "execution_count": 3,
   "metadata": {},
   "outputs": [],
   "source": [
    "import numpy as np "
   ]
  },
  {
   "cell_type": "code",
   "execution_count": 4,
   "metadata": {},
   "outputs": [
    {
     "name": "stdout",
     "output_type": "stream",
     "text": [
      "[[ 5  6  4  8 12]\n",
      " [12  4 11  2  7]\n",
      " [ 8  4 12  3  8]\n",
      " [ 3  8  6 11  4]\n",
      " [ 5  3 11  8  1]] \n",
      "\n",
      "(5, 5) \n",
      "\n"
     ]
    }
   ],
   "source": [
    "A = np.random.randint(1,13,(5,5)); \n",
    "print(A , \"\\n\") \n",
    "print(A.shape , \"\\n\") "
   ]
  },
  {
   "cell_type": "markdown",
   "metadata": {},
   "source": [
    "# Row of Matrix"
   ]
  },
  {
   "cell_type": "code",
   "execution_count": 5,
   "metadata": {},
   "outputs": [
    {
     "name": "stdout",
     "output_type": "stream",
     "text": [
      "\u001b[31m 5  6  4  8 12\u001b[0m\n",
      "12  4 11  8  7\n",
      " 8  4 12  8  8\n",
      " 3  8  6  8  4\n",
      " 5  3 11  8  1\n"
     ]
    }
   ],
   "source": [
    "print('{}{:2d} {:2d} {:2d} {:2d} {:2d}{}'.format(colors.fg.red,A[0,0],A[0,1],A[0,2],A[0,3],A[0,4],colors.reset));\n",
    "print('{:2d} {:2d} {:2d} {:2d} {:2d}'.format(A[1,0],A[1,1],A[1,2],A[0,3],A[1,4]))\n",
    "print('{:2d} {:2d} {:2d} {:2d} {:2d}'.format(A[2,0],A[2,1],A[2,2],A[0,3],A[2,4]))\n",
    "print('{:2d} {:2d} {:2d} {:2d} {:2d}'.format(A[3,0],A[3,1],A[3,2],A[0,3],A[3,4]))\n",
    "print('{:2d} {:2d} {:2d} {:2d} {:2d}'.format(A[4,0],A[4,1],A[4,2],A[0,3],A[4,4]))"
   ]
  },
  {
   "cell_type": "markdown",
   "metadata": {},
   "source": [
    "# Column of Matrix"
   ]
  },
  {
   "cell_type": "code",
   "execution_count": 6,
   "metadata": {},
   "outputs": [
    {
     "name": "stdout",
     "output_type": "stream",
     "text": [
      "\u001b[34m 5\u001b[0m  6  4  8 12\n",
      "\u001b[34m12\u001b[0m  4 11  8  7\n",
      "\u001b[34m 8\u001b[0m  4 12  8  8\n",
      "\u001b[34m 3\u001b[0m  8  6  8  4\n",
      "\u001b[34m 5\u001b[0m  3 11  8  1\n"
     ]
    }
   ],
   "source": [
    "print('{}{:2d}{} {:2d} {:2d} {:2d} {:2d}'.format(colors.fg.blue,A[0,0],colors.reset,A[0,1],A[0,2],A[0,3],A[0,4]))\n",
    "print('{}{:2d}{} {:2d} {:2d} {:2d} {:2d}'.format(colors.fg.blue,A[1,0],colors.reset,A[1,1],A[1,2],A[0,3],A[1,4]))\n",
    "print('{}{:2d}{} {:2d} {:2d} {:2d} {:2d}'.format(colors.fg.blue,A[2,0],colors.reset,A[2,1],A[2,2],A[0,3],A[2,4]))\n",
    "print('{}{:2d}{} {:2d} {:2d} {:2d} {:2d}'.format(colors.fg.blue,A[3,0],colors.reset,A[3,1],A[3,2],A[0,3],A[3,4]))\n",
    "print('{}{:2d}{} {:2d} {:2d} {:2d} {:2d}'.format(colors.fg.blue,A[4,0],colors.reset,A[4,1],A[4,2],A[0,3],A[4,4]))"
   ]
  },
  {
   "cell_type": "markdown",
   "metadata": {},
   "source": [
    "# Vector(A[Row]) * Vector(B[Col]) = C(#rowA,#colB)\n",
    "1st Way: Regular Way"
   ]
  },
  {
   "cell_type": "code",
   "execution_count": 7,
   "metadata": {},
   "outputs": [],
   "source": [
    "A = np.random.randint(1,13,(5,5));\n",
    "B = np.random.randint(1,13,(5,5));"
   ]
  },
  {
   "cell_type": "markdown",
   "metadata": {},
   "source": [
    "## Matrix A"
   ]
  },
  {
   "cell_type": "code",
   "execution_count": 8,
   "metadata": {},
   "outputs": [
    {
     "name": "stdout",
     "output_type": "stream",
     "text": [
      "A = \n",
      "\n",
      " 8 10  8  2  2\n",
      " 4  6  9  2  6\n",
      "\u001b[31m 8  4  4  2  7\u001b[0m\n",
      " 9  3  8  2  1\n",
      " 7  3  3  2  6\n",
      "\n",
      "\n",
      "A(row 3) = \u001b[31m 8  4  4  2  7\u001b[0m\n"
     ]
    }
   ],
   "source": [
    "print('A = \\n')\n",
    "print('{:2d} {:2d} {:2d} {:2d} {:2d}'.format(A[0,0],A[0,1],A[0,2],A[0,3],A[0,4]));\n",
    "print('{:2d} {:2d} {:2d} {:2d} {:2d}'.format(A[1,0],A[1,1],A[1,2],A[0,3],A[1,4]))\n",
    "print('{}{:2d} {:2d} {:2d} {:2d} {:2d}{}'.format(colors.fg.red,A[2,0],A[2,1],A[2,2],A[0,3],A[2,4],colors.reset))\n",
    "print('{:2d} {:2d} {:2d} {:2d} {:2d}'.format(A[3,0],A[3,1],A[3,2],A[0,3],A[3,4]))\n",
    "print('{:2d} {:2d} {:2d} {:2d} {:2d}'.format(A[4,0],A[4,1],A[4,2],A[0,3],A[4,4]))\n",
    "print('\\n')\n",
    "print('A(row 3) = {}{:2d} {:2d} {:2d} {:2d} {:2d}{}'.format(colors.fg.red,A[2,0],A[2,1],A[2,2],A[0,3],A[2,4],colors.reset))\n",
    "As = 'A(row 3) = {}{:2d} {:2d} {:2d} {:2d} {:2d}{}'.format(colors.fg.red,A[2,0],A[2,1],A[2,2],A[0,3],A[2,4],colors.reset);\n"
   ]
  },
  {
   "cell_type": "markdown",
   "metadata": {},
   "source": [
    "## Matrix B"
   ]
  },
  {
   "cell_type": "code",
   "execution_count": 9,
   "metadata": {},
   "outputs": [
    {
     "name": "stdout",
     "output_type": "stream",
     "text": [
      "B = \n",
      "\n",
      " 3 10 10 \u001b[34m 4\u001b[0m 10\n",
      " 2  4 11 \u001b[34m 4\u001b[0m  9\n",
      " 7 11 11 \u001b[34m 3\u001b[0m 10\n",
      " 3  7 12 \u001b[34m 6\u001b[0m 11\n",
      " 9 11  9 \u001b[34m 8\u001b[0m  6\n",
      "\n",
      "\n",
      "B(col 4) =\n",
      "\u001b[34m 4\n",
      " 4\n",
      " 3\n",
      " 6\n",
      " 8\u001b[0m\n"
     ]
    }
   ],
   "source": [
    "print('B = \\n')\n",
    "clr1 = colors.fg.blue; \n",
    "clr2 = colors.reset; \n",
    "\n",
    "print('{:2d} {:2d} {:2d} {}{:2d}{} {:2d}'.format(B[0,0],B[0,1],B[0,2],clr1,B[0,3],clr2,B[0,4]))\n",
    "print('{:2d} {:2d} {:2d} {}{:2d}{} {:2d}'.format(B[1,0],B[1,1],B[1,2],clr1,B[1,3],clr2,B[1,4]))\n",
    "print('{:2d} {:2d} {:2d} {}{:2d}{} {:2d}'.format(B[2,0],B[2,1],B[2,2],clr1,B[2,3],clr2,B[2,4]))\n",
    "print('{:2d} {:2d} {:2d} {}{:2d}{} {:2d}'.format(B[3,0],B[3,1],B[3,2],clr1,B[3,3],clr2,B[3,4]))\n",
    "print('{:2d} {:2d} {:2d} {}{:2d}{} {:2d}'.format(B[4,0],B[4,1],B[4,2],clr1,B[4,3],clr2,B[4,4]))\n",
    "print('\\n')\n",
    "print('B(col 4) =\\n{}{:2d}\\n{:2d}\\n{:2d}\\n{:2d}\\n{:2d}{}'.format(colors.fg.blue,B[0,3],B[1,3],B[2,3],B[3,3],B[4,3],colors.reset))\n",
    "Bs = 'B(col 4) =\\n{}{:2d}\\n{:2d}\\n{:2d}\\n{:2d}\\n{:2d}{}'.format(colors.fg.blue,B[0,3],B[1,3],B[2,3],B[3,3],B[4,3],colors.reset);"
   ]
  },
  {
   "cell_type": "markdown",
   "metadata": {},
   "source": [
    "## C[3,4]"
   ]
  },
  {
   "cell_type": "code",
   "execution_count": 10,
   "metadata": {},
   "outputs": [
    {
     "name": "stdout",
     "output_type": "stream",
     "text": [
      "A(row 3) = \u001b[31m 8  4  4  2  7\u001b[0m \n",
      "*\n",
      " B(col 4) =\n",
      "\u001b[34m 4\n",
      " 4\n",
      " 3\n",
      " 6\n",
      " 8\u001b[0m\n",
      "\n",
      "C[3,4]:  158 \n",
      "\n",
      "\n",
      "[[124 244 320 124 284]\n",
      " [150 250 295 133 253]\n",
      " [144 266 315 158 275]\n",
      " [110 229 268 104 247]\n",
      " [120 223 262 133 229]]\n"
     ]
    }
   ],
   "source": [
    "print(As ,'\\n*\\n',Bs)\n",
    "C = np.dot(A[2,:],B[:,3]);\n",
    "print(\"\\nC[3,4]: \" ,C , \"\\n\\n\")\n",
    "\n",
    "C = np.dot(A,B);\n",
    "print(C)"
   ]
  },
  {
   "cell_type": "markdown",
   "metadata": {},
   "source": [
    "# Matrix(A) * Vector(B[Col]) = C Matrix\n",
    "Columns of 'C' are combinations of Columns of 'A'\n",
    "\n",
    "2nd Way: Column Way"
   ]
  },
  {
   "cell_type": "markdown",
   "metadata": {},
   "source": [
    "## Matrix A"
   ]
  },
  {
   "cell_type": "code",
   "execution_count": 11,
   "metadata": {},
   "outputs": [
    {
     "name": "stdout",
     "output_type": "stream",
     "text": [
      "A =\n",
      "\u001b[31m\n",
      " 8 10  8  2  2\n",
      " 4  6  9  2  6\n",
      " 8  4  4  2  7\n",
      " 9  3  8  2  1\n",
      " 7  3  3  2  6\n"
     ]
    }
   ],
   "source": [
    "print('A =')\n",
    "print(colors.fg.red)\n",
    "print('{:2d} {:2d} {:2d} {:2d} {:2d}'.format(A[0,0],A[0,1],A[0,2],A[0,3],A[0,4]))\n",
    "print('{:2d} {:2d} {:2d} {:2d} {:2d}'.format(A[1,0],A[1,1],A[1,2],A[0,3],A[1,4]))\n",
    "print('{:2d} {:2d} {:2d} {:2d} {:2d}'.format(A[2,0],A[2,1],A[2,2],A[0,3],A[2,4]))\n",
    "print('{:2d} {:2d} {:2d} {:2d} {:2d}'.format(A[3,0],A[3,1],A[3,2],A[0,3],A[3,4]))\n",
    "print('{:2d} {:2d} {:2d} {:2d} {:2d}'.format(A[4,0],A[4,1],A[4,2],A[0,3],A[4,4]))\n"
   ]
  },
  {
   "cell_type": "markdown",
   "metadata": {},
   "source": [
    "## Matrix B"
   ]
  },
  {
   "cell_type": "code",
   "execution_count": 12,
   "metadata": {},
   "outputs": [
    {
     "name": "stdout",
     "output_type": "stream",
     "text": [
      "B = \n",
      "\n",
      "\u001b[34m 3\u001b[0m 10 10  4 10\n",
      "\u001b[34m 2\u001b[0m  4 11  4  9\n",
      "\u001b[34m 7\u001b[0m 11 11  3 10\n",
      "\u001b[34m 3\u001b[0m  7 12  6 11\n",
      "\u001b[34m 9\u001b[0m 11  9  8  6\n",
      "\n",
      "\n",
      " 3 \u001b[34m10\u001b[0m 10  4 10\n",
      " 2 \u001b[34m 4\u001b[0m 11  4  9\n",
      " 7 \u001b[34m11\u001b[0m 11  3 10\n",
      " 3 \u001b[34m 7\u001b[0m 12  6 11\n",
      " 9 \u001b[34m11\u001b[0m  9  8  6\n",
      "\n",
      ".\n",
      ".\n"
     ]
    }
   ],
   "source": [
    "print('B = \\n')\n",
    "clr1 = colors.fg.blue; \n",
    "clr2 = colors.reset; \n",
    "\n",
    "print('{}{:2d}{} {:2d} {:2d} {:2d} {:2d}'.format(clr1,B[0,0],clr2,B[0,1],B[0,2],B[0,3],B[0,4]))\n",
    "print('{}{:2d}{} {:2d} {:2d} {:2d} {:2d}'.format(clr1,B[1,0],clr2,B[1,1],B[1,2],B[1,3],B[1,4]))\n",
    "print('{}{:2d}{} {:2d} {:2d} {:2d} {:2d}'.format(clr1,B[2,0],clr2,B[2,1],B[2,2],B[2,3],B[2,4]))\n",
    "print('{}{:2d}{} {:2d} {:2d} {:2d} {:2d}'.format(clr1,B[3,0],clr2,B[3,1],B[3,2],B[3,3],B[3,4]))\n",
    "print('{}{:2d}{} {:2d} {:2d} {:2d} {:2d}'.format(clr1,B[4,0],clr2,B[4,1],B[4,2],B[4,3],B[4,4]))\n",
    "print('\\n')\n",
    "print('{:2d} {}{:2d}{} {:2d} {:2d} {:2d}'.format(B[0,0],clr1,B[0,1],clr2,B[0,2],B[0,3],B[0,4]))\n",
    "print('{:2d} {}{:2d}{} {:2d} {:2d} {:2d}'.format(B[1,0],clr1,B[1,1],clr2,B[1,2],B[1,3],B[1,4]))\n",
    "print('{:2d} {}{:2d}{} {:2d} {:2d} {:2d}'.format(B[2,0],clr1,B[2,1],clr2,B[2,2],B[2,3],B[2,4]))\n",
    "print('{:2d} {}{:2d}{} {:2d} {:2d} {:2d}'.format(B[3,0],clr1,B[3,1],clr2,B[3,2],B[3,3],B[3,4]))\n",
    "print('{:2d} {}{:2d}{} {:2d} {:2d} {:2d}'.format(B[4,0],clr1,B[4,1],clr2,B[4,2],B[4,3],B[4,4]))\n",
    "print('\\n.\\n.')"
   ]
  },
  {
   "cell_type": "markdown",
   "metadata": {},
   "source": [
    "## Matrix C"
   ]
  },
  {
   "cell_type": "code",
   "execution_count": 13,
   "metadata": {},
   "outputs": [
    {
     "name": "stdout",
     "output_type": "stream",
     "text": [
      "C[:,0]:\n",
      "\u001b[35m\n",
      "124\n",
      "150\n",
      "144\n",
      "110\n",
      "120\n",
      "\u001b[0m\n",
      "C[:,1]:\n",
      "\u001b[35m\n",
      "244\n",
      "250\n",
      "266\n",
      "110\n",
      "223\n",
      "\u001b[0m\n",
      "C[:,2]:\n",
      "\u001b[35m\n",
      "320\n",
      "295\n",
      "315\n",
      "268\n",
      "262\n",
      "\u001b[0m\n",
      "C[:,3]:\n",
      "\u001b[35m\n",
      "124\n",
      "133\n",
      "158\n",
      "104\n",
      "133\n",
      "\u001b[0m\n",
      "C[:,4]:\n",
      "\u001b[35m\n",
      "284\n",
      "253\n",
      "275\n",
      "247\n",
      "229\n",
      "\u001b[0m\n",
      "C =\n",
      "\u001b[35m\n",
      "124 244 320 124 284\n",
      "150 250 295 124 253\n",
      "144 266 315 124 275\n",
      "110 229 268 124 247\n",
      "120 223 262 124 229\n"
     ]
    }
   ],
   "source": [
    "C1 = np.dot(A,B[:,0]);\n",
    "C2 = np.dot(A,B[:,1]);\n",
    "C3 = np.dot(A,B[:,2]);\n",
    "C4 = np.dot(A,B[:,3]);\n",
    "C5 = np.dot(A,B[:,4]);\n",
    "\n",
    "print(\"C[:,0]:\");\n",
    "print(colors.fg.purple);\n",
    "print('{:2d}\\n{:2d}\\n{:2d}\\n{:2d}\\n{:2d}'.format(C1[0],C1[1],C1[2],C1[3],C1[4]));\n",
    "print(colors.reset);\n",
    "\n",
    "print(\"C[:,1]:\");\n",
    "print(colors.fg.purple);\n",
    "print('{:2d}\\n{:2d}\\n{:2d}\\n{:2d}\\n{:2d}'.format(C2[0],C2[1],C2[2],C1[3],C2[4]));\n",
    "print(colors.reset);\n",
    "\n",
    "print(\"C[:,2]:\");\n",
    "print(colors.fg.purple);\n",
    "print('{:2d}\\n{:2d}\\n{:2d}\\n{:2d}\\n{:2d}'.format(C3[0],C3[1],C3[2],C3[3],C3[4]));\n",
    "print(colors.reset);\n",
    "\n",
    "print(\"C[:,3]:\");\n",
    "print(colors.fg.purple);\n",
    "print('{:2d}\\n{:2d}\\n{:2d}\\n{:2d}\\n{:2d}'.format(C4[0],C4[1],C4[2],C4[3],C4[4]));\n",
    "print(colors.reset);\n",
    "\n",
    "print(\"C[:,4]:\");\n",
    "print(colors.fg.purple);\n",
    "print('{:2d}\\n{:2d}\\n{:2d}\\n{:2d}\\n{:2d}'.format(C5[0],C5[1],C5[2],C5[3],C5[4]));\n",
    "print(colors.reset);\n",
    "\n",
    "print('C =')\n",
    "print(colors.fg.purple)\n",
    "print('{:2d} {:2d} {:2d} {:2d} {:2d}'.format(C[0,0],C[0,1],C[0,2],C[0,3],C[0,4]))\n",
    "print('{:2d} {:2d} {:2d} {:2d} {:2d}'.format(C[1,0],C[1,1],C[1,2],C[0,3],C[1,4]))\n",
    "print('{:2d} {:2d} {:2d} {:2d} {:2d}'.format(C[2,0],C[2,1],C[2,2],C[0,3],C[2,4]))\n",
    "print('{:2d} {:2d} {:2d} {:2d} {:2d}'.format(C[3,0],C[3,1],C[3,2],C[0,3],C[3,4]))\n",
    "print('{:2d} {:2d} {:2d} {:2d} {:2d}'.format(C[4,0],C[4,1],C[4,2],C[0,3],C[4,4]))"
   ]
  },
  {
   "cell_type": "markdown",
   "metadata": {},
   "source": [
    "# Vector(A[Row]) * Matrix(B) = C Matrix\n",
    "Rows of 'C' are combinations of Row 'B'\n",
    "\n",
    "3rd Way: Row Way\n"
   ]
  },
  {
   "cell_type": "markdown",
   "metadata": {},
   "source": [
    "## Matrix A"
   ]
  },
  {
   "cell_type": "code",
   "execution_count": 14,
   "metadata": {},
   "outputs": [
    {
     "name": "stdout",
     "output_type": "stream",
     "text": [
      "A = \n",
      "\n",
      "\u001b[31m 8 10  8  2  2\u001b[0m\n",
      " 4  6  9  2  6\n",
      " 8  4  4  2  7\n",
      " 9  3  8  2  1\n",
      " 7  3  3  2  6\n",
      "\n",
      "\n",
      " 8 10  8  2  2\n",
      "\u001b[31m 4  6  9  2  6\u001b[0m\n",
      " 8  4  4  2  7\n",
      " 9  3  8  2  1\n",
      " 7  3  3  2  6\n",
      "\n",
      ".\n",
      ".\n"
     ]
    }
   ],
   "source": [
    "print('A = \\n')\n",
    "print('{}{:2d} {:2d} {:2d} {:2d} {:2d}{}'.format(colors.fg.red,A[0,0],A[0,1],A[0,2],A[0,3],A[0,4],colors.reset));\n",
    "print('{:2d} {:2d} {:2d} {:2d} {:2d}'.format(A[1,0],A[1,1],A[1,2],A[0,3],A[1,4]))\n",
    "print('{:2d} {:2d} {:2d} {:2d} {:2d}'.format(A[2,0],A[2,1],A[2,2],A[0,3],A[2,4]))\n",
    "print('{:2d} {:2d} {:2d} {:2d} {:2d}'.format(A[3,0],A[3,1],A[3,2],A[0,3],A[3,4]))\n",
    "print('{:2d} {:2d} {:2d} {:2d} {:2d}'.format(A[4,0],A[4,1],A[4,2],A[0,3],A[4,4]))\n",
    "print('\\n')\n",
    "print('{:2d} {:2d} {:2d} {:2d} {:2d}'.format(A[0,0],A[0,1],A[0,2],A[0,3],A[0,4],));\n",
    "print('{}{:2d} {:2d} {:2d} {:2d} {:2d}{}'.format(colors.fg.red,A[1,0],A[1,1],A[1,2],A[0,3],A[1,4],colors.reset))\n",
    "print('{:2d} {:2d} {:2d} {:2d} {:2d}'.format(A[2,0],A[2,1],A[2,2],A[0,3],A[2,4]))\n",
    "print('{:2d} {:2d} {:2d} {:2d} {:2d}'.format(A[3,0],A[3,1],A[3,2],A[0,3],A[3,4]))\n",
    "print('{:2d} {:2d} {:2d} {:2d} {:2d}'.format(A[4,0],A[4,1],A[4,2],A[0,3],A[4,4]))\n",
    "print('\\n.\\n.')"
   ]
  },
  {
   "cell_type": "markdown",
   "metadata": {},
   "source": [
    "## Matrix B"
   ]
  },
  {
   "cell_type": "code",
   "execution_count": 15,
   "metadata": {},
   "outputs": [
    {
     "name": "stdout",
     "output_type": "stream",
     "text": [
      "B =\n",
      "\u001b[34m\n",
      " 3 10 10  4 10\n",
      " 2  4 11  4  9\n",
      " 7 11 11  3 10\n",
      " 3  7 12  6 11\n",
      " 9 11  9  8  6\n",
      "\n",
      "\n"
     ]
    }
   ],
   "source": [
    "print('B =')\n",
    "print(colors.fg.blue)\n",
    "print('{:2d} {:2d} {:2d} {:2d} {:2d}'.format(B[0,0],B[0,1],B[0,2],B[0,3],B[0,4]))\n",
    "print('{:2d} {:2d} {:2d} {:2d} {:2d}'.format(B[1,0],B[1,1],B[1,2],B[1,3],B[1,4]))\n",
    "print('{:2d} {:2d} {:2d} {:2d} {:2d}'.format(B[2,0],B[2,1],B[2,2],B[2,3],B[2,4]))\n",
    "print('{:2d} {:2d} {:2d} {:2d} {:2d}'.format(B[3,0],B[3,1],B[3,2],B[3,3],B[3,4]))\n",
    "print('{:2d} {:2d} {:2d} {:2d} {:2d}'.format(B[4,0],B[4,1],B[4,2],B[4,3],B[4,4]))\n",
    "print('\\n')"
   ]
  },
  {
   "cell_type": "markdown",
   "metadata": {},
   "source": [
    "## Matrix C"
   ]
  },
  {
   "cell_type": "code",
   "execution_count": 16,
   "metadata": {},
   "outputs": [
    {
     "name": "stdout",
     "output_type": "stream",
     "text": [
      "R[0,:]:\n",
      "\u001b[35m\n",
      "124 244 320 124 284\n",
      "\u001b[0m\n",
      "R[1,:]:\n",
      "\u001b[35m\n",
      "150 250 295 124 253\n",
      "\u001b[0m\n",
      "R[2,:]:\n",
      "\u001b[35m\n",
      "144 266 315 158 275\n",
      "\u001b[0m\n",
      "R[3,:]:\n",
      "\u001b[35m\n",
      "110 229 268 104 247\n",
      "\u001b[0m\n",
      "R[4,:]:\n",
      "\u001b[35m\n",
      "120 223 262 133 229\n",
      "\u001b[0m\n",
      "C =\n",
      "\u001b[35m\n",
      "124 244 320 124 284\n",
      "150 250 295 124 253\n",
      "144 266 315 124 275\n",
      "110 229 268 124 247\n",
      "120 223 262 124 229\n"
     ]
    }
   ],
   "source": [
    "R1 = np.dot(A[0,:],B);\n",
    "R2 = np.dot(A[1,:],B);\n",
    "R3 = np.dot(A[2,:],B);\n",
    "R4 = np.dot(A[3,:],B);\n",
    "R5 = np.dot(A[4,:],B);\n",
    "\n",
    "print(\"R[0,:]:\");\n",
    "print(colors.fg.purple);\n",
    "print('{:2d} {:2d} {:2d} {:2d} {:2d}'.format(R1[0],R1[1],R1[2],R1[3],R1[4]));\n",
    "print(colors.reset);\n",
    "\n",
    "print(\"R[1,:]:\");\n",
    "print(colors.fg.purple);\n",
    "print('{:2d} {:2d} {:2d} {:2d} {:2d}'.format(R2[0],R2[1],R2[2],R1[3],R2[4]));\n",
    "print(colors.reset);\n",
    "\n",
    "print(\"R[2,:]:\");\n",
    "print(colors.fg.purple);\n",
    "print('{:2d} {:2d} {:2d} {:2d} {:2d}'.format(R3[0],R3[1],R3[2],R3[3],R3[4]));\n",
    "print(colors.reset);\n",
    "\n",
    "print(\"R[3,:]:\");\n",
    "print(colors.fg.purple);\n",
    "print('{:2d} {:2d} {:2d} {:2d} {:2d}'.format(R4[0],R4[1],R4[2],R4[3],R4[4]));\n",
    "print(colors.reset);\n",
    "\n",
    "print(\"R[4,:]:\");\n",
    "print(colors.fg.purple);\n",
    "print('{:2d} {:2d} {:2d} {:2d} {:2d}'.format(R5[0],R5[1],R5[2],R5[3],R5[4]));\n",
    "print(colors.reset);\n",
    "\n",
    "print('C =')\n",
    "print(colors.fg.purple)\n",
    "print('{:2d} {:2d} {:2d} {:2d} {:2d}'.format(C[0,0],C[0,1],C[0,2],C[0,3],C[0,4]))\n",
    "print('{:2d} {:2d} {:2d} {:2d} {:2d}'.format(C[1,0],C[1,1],C[1,2],C[0,3],C[1,4]))\n",
    "print('{:2d} {:2d} {:2d} {:2d} {:2d}'.format(C[2,0],C[2,1],C[2,2],C[0,3],C[2,4]))\n",
    "print('{:2d} {:2d} {:2d} {:2d} {:2d}'.format(C[3,0],C[3,1],C[3,2],C[0,3],C[3,4]))\n",
    "print('{:2d} {:2d} {:2d} {:2d} {:2d}'.format(C[4,0],C[4,1],C[4,2],C[0,3],C[4,4]))"
   ]
  },
  {
   "cell_type": "markdown",
   "metadata": {},
   "source": [
    "# AB = Sum of (Cols of A) * (Rows of B)\n",
    "4th Way: (M x 1)(1 x N) = Combation of either rows or cols"
   ]
  },
  {
   "cell_type": "code",
   "execution_count": 17,
   "metadata": {},
   "outputs": [
    {
     "name": "stdout",
     "output_type": "stream",
     "text": [
      "[[8]\n",
      " [4]\n",
      " [8]\n",
      " [9]\n",
      " [7]]\n",
      "\n",
      "[[ 3 10 10  4 10]]\n",
      "\n",
      "[[24 80 80 32 80]\n",
      " [12 40 40 16 40]\n",
      " [24 80 80 32 80]\n",
      " [27 90 90 36 90]\n",
      " [21 70 70 28 70]]\n"
     ]
    }
   ],
   "source": [
    "print(A[:,0:1])\n",
    "print(\"\")\n",
    "print(B[0:1,:])\n",
    "print(\"\")\n",
    "print(np.dot(A[:,0:1] , B[0:1,:]))"
   ]
  },
  {
   "cell_type": "markdown",
   "metadata": {},
   "source": [
    "# Block Multipication\n",
    "![recursivematrixmultiplication](https://user-images.githubusercontent.com/13907836/48246738-76615780-e3a5-11e8-8f9f-f5fb2b90936f.png)\n"
   ]
  },
  {
   "cell_type": "code",
   "execution_count": 18,
   "metadata": {},
   "outputs": [
    {
     "name": "stdout",
     "output_type": "stream",
     "text": [
      "[[ 4  7  6  3  5  4  2  1 11  3  1  6  1  6  9  9 10  5  1  3]\n",
      " [ 9  3 11  3  8  6 12  8  9  7  6 12  5  2 11 10  2  6  1 12]\n",
      " [ 7  6 10  6  2  3  2 12  5  6 10 10  2  9  3  7  1  9  7  8]\n",
      " [ 5  1 12  1  3  9  9 12  1  5 12  8 10  2  8  4  1  9  1  7]\n",
      " [ 2 10 11  4 10  7 12  5  6  9  1 12  8  6  5  2  9  3  6  3]\n",
      " [12  5  2  7  8  4  2 10  4 10  4  9  2 11 11  1  4  8  7  8]\n",
      " [ 2 12  9 11  4  8  4 12  4  7  7  1  3  5  2  9  7  7  8  1]\n",
      " [10  2 12  5  8 12  4 12 10  8  1  5  5 10 11  6  1  6 11  3]\n",
      " [10  7  8  1  1 11 10  2 11  8  2  6  1  5  5  7  6  2  4  9]\n",
      " [ 6  7  1  1 11  2  4  3  1  9  3 12 10  8  8  1  3 12  6 12]\n",
      " [12  6  6  6 11 12  1  6  1  6  8  7  8 10  9 12  8  1  4 12]\n",
      " [ 8  9  6  5  4  4  5 11  4  9  6  7  8 12 11 10  8  4  6 10]\n",
      " [ 2  3  3  2  8 12 11  3  4  2  7  6  3  6  7  4 10  6  2  4]\n",
      " [ 9 11 10  1  2  8  2 10  2  9  8 11  1  6  6  1  8  3 12  1]\n",
      " [ 5 10  5  6  7 10  5  2  8  6  8  1  2 12 11  7  3  8  9  7]\n",
      " [ 9  7  2  8 12  5  4  1  3  6 12 12  7  9 10  5  7  6  6  2]\n",
      " [10  8  6  3  7  6  2  5 10  9 12 11 12  6  5 11  2  8  2  2]\n",
      " [ 6  9  5  7 11  4 12 12  9  7  6  1  8  8 10 10 10  1  6  1]\n",
      " [ 5  7  4  9  1  1  2 10 11  4  8  4 10  9  7 12 12 12 12  2]\n",
      " [10  3  2  3  4 10 10  7  6  2  9 12  3  3 11  2  8 12  1 11]]\n",
      "\n",
      "[[11  4 10  3  1 11  7 12  6 11 12  1  5 10 12  5  5 12  8  7]\n",
      " [ 2  6  7  7 11  9  3 10 11  6  8  6  5 10 10  4  5 12  7  6]\n",
      " [ 8 12 11 10 11 11 10 10 12 12 10  3  3  7  5  5 10  3  7  4]\n",
      " [ 6 11  7  4  3  2  4  2  3  2  1  7  9  8  1  2  1  6  4  4]\n",
      " [ 7 11  1  4 10  7  7 11  3  2 10  4  7 11  3 11  6 10  8  4]\n",
      " [ 9  7  4  5  9 12  9 12  5  8 10  8  2  3 10 10  4  3  8  6]\n",
      " [ 1  6  9 12  3 10 12  4  5  3  8  5  9  4 11 11  4 11  5  3]\n",
      " [12  1 11 10  1  1  1  8  7  7  4  5 10  8  6  2  7 11  1  1]\n",
      " [ 9  8  9  9  1  1  3  2  8 12  6  8  8  8 10 11 10 11  7  6]\n",
      " [ 6 10  4  8  6  9  5 12  9 10  8  7  6  2 11  1  9  4 11  8]\n",
      " [ 6  9 10  4  4 10  8 10  1  7 10  1  6  2 12 11  3 10 11  1]\n",
      " [ 5 11  1  8  3  5  4  5 11 12  3  8 10  1  2  1  3 11  1  2]\n",
      " [ 1 12 12  6 12  1  8  3  4  5  7  6  3 12  7  6 12  1  8  6]\n",
      " [ 9 12  8  9  2  1  2 10  7  3  8  7  6  6  4  6  4  9  1 11]\n",
      " [10  7 11  2  2  1  6  9  4  9 10 12  8  7 11  6  8  6 10  6]\n",
      " [ 3 11  2  9  6  5 12 12 12  5  9  3  5  2  4  4 12 12  8 12]\n",
      " [11 10  2  9  9  1 11  4  9  8  4 11  5  3  2  7  5  8 12  9]\n",
      " [ 8  8  8 12  9 10  6  4  7  2 11  3  7 12  5 10  9  2 12  5]\n",
      " [ 6  3  9  4  9 10  9  3 11  7  8  3 10  8  7  1 10 12 11  3]\n",
      " [ 3  4  7  1  5  6  7 12  1 12  5  7  5 11  4  6 12  2  7 10]]\n"
     ]
    }
   ],
   "source": [
    "A = np.random.randint(1,13,(20,20));\n",
    "B = np.random.randint(1,13,(20,20));\n",
    "print(A)\n",
    "print(\"\")\n",
    "print(B)"
   ]
  },
  {
   "cell_type": "code",
   "execution_count": 19,
   "metadata": {},
   "outputs": [],
   "source": [
    "A_one_one = A[0:10,0:10]\n",
    "A_one_two = A[0:10,10:20]\n",
    "\n",
    "A_two_one = A[10:20,0:10]\n",
    "A_two_two = A[0:10,10:20]"
   ]
  },
  {
   "cell_type": "code",
   "execution_count": 20,
   "metadata": {},
   "outputs": [],
   "source": [
    "B_one_one = B[0:10,0:10]\n",
    "B_one_two = B[0:10,10:20]\n",
    "\n",
    "B_two_one = B[10:20,0:10]\n",
    "B_two_two = B[10:20,10:20]"
   ]
  },
  {
   "cell_type": "code",
   "execution_count": 21,
   "metadata": {},
   "outputs": [
    {
     "name": "stdout",
     "output_type": "stream",
     "text": [
      "[[ 699  853  620  698  555  510  649  752  745  742]\n",
      " [ 923 1147 1024  979  748  913  995 1181  952 1134]\n",
      " [ 866  982  943  882  660  802  753 1014  899  943]\n",
      " [ 795  954  969  850  702  818  843  984  748  903]\n",
      " [ 819 1128  872  971  856  823  893  969  977  951]\n",
      " [ 967  985  929  809  634  757  730 1057  839  948]\n",
      " [ 836  984  884  904  786  787  803  952  918  802]\n",
      " [1078 1109 1085  966  783  884  903 1148 1018 1068]\n",
      " [ 773  899  806  808  631  803  825  973  850  970]\n",
      " [ 736  983  816  766  750  744  742  955  765  845]]\n"
     ]
    }
   ],
   "source": [
    "C_one_one = np.dot(A_one_one,B_one_one) + np.dot(A_one_two,B_two_one)\n",
    "#C_one_two\n",
    "#C_two_one\n",
    "#C_two_two\n",
    "\n",
    "print(C_one_one)"
   ]
  },
  {
   "cell_type": "code",
   "execution_count": 22,
   "metadata": {},
   "outputs": [
    {
     "name": "stdout",
     "output_type": "stream",
     "text": [
      "[[ 699  853  620  698  555  510  649  752  745  742]\n",
      " [ 923 1147 1024  979  748  913  995 1181  952 1134]\n",
      " [ 866  982  943  882  660  802  753 1014  899  943]\n",
      " [ 795  954  969  850  702  818  843  984  748  903]\n",
      " [ 819 1128  872  971  856  823  893  969  977  951]\n",
      " [ 967  985  929  809  634  757  730 1057  839  948]\n",
      " [ 836  984  884  904  786  787  803  952  918  802]\n",
      " [1078 1109 1085  966  783  884  903 1148 1018 1068]\n",
      " [ 773  899  806  808  631  803  825  973  850  970]\n",
      " [ 736  983  816  766  750  744  742  955  765  845]]\n"
     ]
    }
   ],
   "source": [
    "C = np.dot(A,B)\n",
    "print(C[0:10 , 0:10])"
   ]
  },
  {
   "cell_type": "markdown",
   "metadata": {},
   "source": [
    "# Inverse of Matrix\n",
    "The inverse of A is A-1 only when A × A-1 = A-1 × A = I ( Therefore MAT(A) MUST be a Square matrix)\n",
    "\n",
    "\n",
    "## Why Do We Need an Inverse?\n",
    "Because with matrices we don't divide! Seriously, there is no concept of dividing by a matrix.\n",
    "\n",
    "But we can multiply by an inverse, which achieves the same thing."
   ]
  },
  {
   "cell_type": "code",
   "execution_count": 35,
   "metadata": {},
   "outputs": [
    {
     "name": "stdout",
     "output_type": "stream",
     "text": [
      "[[1 1]\n",
      " [1 1]]\n",
      "Not Inveritble\n"
     ]
    }
   ],
   "source": [
    "A = np.random.randint(1,2,(2,2));\n",
    "print(A)\n",
    "try:\n",
    "    inverse = np.linalg.inv(A)\n",
    "except np.linalg.LinAlgError:\n",
    "    # Not invertible\n",
    "    print(\"Not Inveritble\");\n",
    "else:\n",
    "    # continue with what you were doing\n",
    "    print(\"Inveritble\");"
   ]
  },
  {
   "cell_type": "code",
   "execution_count": null,
   "metadata": {},
   "outputs": [],
   "source": []
  }
 ],
 "metadata": {
  "kernelspec": {
   "display_name": "Python 3",
   "language": "python",
   "name": "python3"
  },
  "language_info": {
   "codemirror_mode": {
    "name": "ipython",
    "version": 3
   },
   "file_extension": ".py",
   "mimetype": "text/x-python",
   "name": "python",
   "nbconvert_exporter": "python",
   "pygments_lexer": "ipython3",
   "version": "3.7.0"
  }
 },
 "nbformat": 4,
 "nbformat_minor": 2
}
