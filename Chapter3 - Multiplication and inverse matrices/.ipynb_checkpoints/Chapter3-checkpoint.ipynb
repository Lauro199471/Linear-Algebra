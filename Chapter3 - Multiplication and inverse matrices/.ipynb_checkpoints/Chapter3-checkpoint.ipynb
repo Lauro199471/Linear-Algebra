{
 "cells": [
  {
   "cell_type": "markdown",
   "metadata": {},
   "source": [
    "# Color Class"
   ]
  },
  {
   "cell_type": "code",
   "execution_count": 1,
   "metadata": {},
   "outputs": [],
   "source": [
    "class colors: \n",
    "    reset='\\033[0m'\n",
    "    bold='\\033[01m'\n",
    "    disable='\\033[02m'\n",
    "    underline='\\033[04m'\n",
    "    reverse='\\033[07m'\n",
    "    strikethrough='\\033[09m'\n",
    "    invisible='\\033[08m'\n",
    "    class fg: \n",
    "        black='\\033[30m'\n",
    "        red='\\033[31m'\n",
    "        green='\\033[32m'\n",
    "        orange='\\033[33m'\n",
    "        blue='\\033[34m'\n",
    "        purple='\\033[35m'\n",
    "        cyan='\\033[36m'\n",
    "        lightgrey='\\033[37m'\n",
    "        darkgrey='\\033[90m'\n",
    "        lightred='\\033[91m'\n",
    "        lightgreen='\\033[92m'\n",
    "        yellow='\\033[93m'\n",
    "        lightblue='\\033[94m'\n",
    "        pink='\\033[95m'\n",
    "        lightcyan='\\033[96m'\n",
    "    class bg: \n",
    "        black='\\033[40m'\n",
    "        red='\\033[41m'\n",
    "        green='\\033[42m'\n",
    "        orange='\\033[43m'\n",
    "        blue='\\033[44m'\n",
    "        purple='\\033[45m'\n",
    "        cyan='\\033[46m'\n",
    "        lightgrey='\\033[47m'"
   ]
  },
  {
   "cell_type": "code",
   "execution_count": 2,
   "metadata": {},
   "outputs": [
    {
     "name": "stdout",
     "output_type": "stream",
     "text": [
      "\u001b[42m SKk \u001b[31m Amartya\n",
      "\u001b[47m SKk \u001b[31m Amartya\n"
     ]
    }
   ],
   "source": [
    "print(colors.bg.green, \"SKk\", colors.fg.red, \"Amartya\") \n",
    "print(colors.bg.lightgrey, \"SKk\", colors.fg.red, \"Amartya\") "
   ]
  },
  {
   "cell_type": "markdown",
   "metadata": {},
   "source": [
    "# Chapter 3 Starts here"
   ]
  },
  {
   "cell_type": "code",
   "execution_count": 3,
   "metadata": {},
   "outputs": [],
   "source": [
    "import numpy as np "
   ]
  },
  {
   "cell_type": "code",
   "execution_count": 4,
   "metadata": {},
   "outputs": [
    {
     "name": "stdout",
     "output_type": "stream",
     "text": [
      "[[ 3  8  6  7  4]\n",
      " [ 6  8  9  4 10]\n",
      " [ 4  1  6 10 11]\n",
      " [ 8  4 12 12  9]\n",
      " [ 8 11  5  7  1]] \n",
      "\n",
      "(5, 5) \n",
      "\n"
     ]
    }
   ],
   "source": [
    "A = np.random.randint(1,13,(5,5)); \n",
    "print(A , \"\\n\") \n",
    "print(A.shape , \"\\n\") "
   ]
  },
  {
   "cell_type": "markdown",
   "metadata": {},
   "source": [
    "# Row of Matrix"
   ]
  },
  {
   "cell_type": "code",
   "execution_count": 5,
   "metadata": {},
   "outputs": [
    {
     "name": "stdout",
     "output_type": "stream",
     "text": [
      "\u001b[31m 3  8  6  7  4\u001b[0m\n",
      " 6  8  9  7 10\n",
      " 4  1  6  7 11\n",
      " 8  4 12  7  9\n",
      " 8 11  5  7  1\n"
     ]
    }
   ],
   "source": [
    "print('{}{:2d} {:2d} {:2d} {:2d} {:2d}{}'.format(colors.fg.red,A[0,0],A[0,1],A[0,2],A[0,3],A[0,4],colors.reset));\n",
    "print('{:2d} {:2d} {:2d} {:2d} {:2d}'.format(A[1,0],A[1,1],A[1,2],A[0,3],A[1,4]))\n",
    "print('{:2d} {:2d} {:2d} {:2d} {:2d}'.format(A[2,0],A[2,1],A[2,2],A[0,3],A[2,4]))\n",
    "print('{:2d} {:2d} {:2d} {:2d} {:2d}'.format(A[3,0],A[3,1],A[3,2],A[0,3],A[3,4]))\n",
    "print('{:2d} {:2d} {:2d} {:2d} {:2d}'.format(A[4,0],A[4,1],A[4,2],A[0,3],A[4,4]))"
   ]
  },
  {
   "cell_type": "markdown",
   "metadata": {},
   "source": [
    "# Column of Matrix"
   ]
  },
  {
   "cell_type": "code",
   "execution_count": 6,
   "metadata": {},
   "outputs": [
    {
     "name": "stdout",
     "output_type": "stream",
     "text": [
      "\u001b[34m 3\u001b[0m  8  6  7  4\n",
      "\u001b[34m 6\u001b[0m  8  9  7 10\n",
      "\u001b[34m 4\u001b[0m  1  6  7 11\n",
      "\u001b[34m 8\u001b[0m  4 12  7  9\n",
      "\u001b[34m 8\u001b[0m 11  5  7  1\n"
     ]
    }
   ],
   "source": [
    "print('{}{:2d}{} {:2d} {:2d} {:2d} {:2d}'.format(colors.fg.blue,A[0,0],colors.reset,A[0,1],A[0,2],A[0,3],A[0,4]))\n",
    "print('{}{:2d}{} {:2d} {:2d} {:2d} {:2d}'.format(colors.fg.blue,A[1,0],colors.reset,A[1,1],A[1,2],A[0,3],A[1,4]))\n",
    "print('{}{:2d}{} {:2d} {:2d} {:2d} {:2d}'.format(colors.fg.blue,A[2,0],colors.reset,A[2,1],A[2,2],A[0,3],A[2,4]))\n",
    "print('{}{:2d}{} {:2d} {:2d} {:2d} {:2d}'.format(colors.fg.blue,A[3,0],colors.reset,A[3,1],A[3,2],A[0,3],A[3,4]))\n",
    "print('{}{:2d}{} {:2d} {:2d} {:2d} {:2d}'.format(colors.fg.blue,A[4,0],colors.reset,A[4,1],A[4,2],A[0,3],A[4,4]))"
   ]
  },
  {
   "cell_type": "markdown",
   "metadata": {},
   "source": [
    "# Vector(A[Row]) * Vector(B[Col]) = C(#rowA,#colB)\n",
    "1st Way: Regular Way"
   ]
  },
  {
   "cell_type": "code",
   "execution_count": 7,
   "metadata": {},
   "outputs": [],
   "source": [
    "A = np.random.randint(1,13,(5,5));\n",
    "B = np.random.randint(1,13,(5,5));"
   ]
  },
  {
   "cell_type": "markdown",
   "metadata": {},
   "source": [
    "## Matrix A"
   ]
  },
  {
   "cell_type": "code",
   "execution_count": 8,
   "metadata": {},
   "outputs": [
    {
     "name": "stdout",
     "output_type": "stream",
     "text": [
      "A = \n",
      "\n",
      " 1  5  6  4  8\n",
      " 9 10  9  4  7\n",
      "\u001b[31m 3  4  1  4  2\u001b[0m\n",
      "10  7  2  4 11\n",
      " 3  2 12  4 10\n",
      "\n",
      "\n",
      "A(row 3) = \u001b[31m 3  4  1  4  2\u001b[0m\n"
     ]
    }
   ],
   "source": [
    "print('A = \\n')\n",
    "print('{:2d} {:2d} {:2d} {:2d} {:2d}'.format(A[0,0],A[0,1],A[0,2],A[0,3],A[0,4]));\n",
    "print('{:2d} {:2d} {:2d} {:2d} {:2d}'.format(A[1,0],A[1,1],A[1,2],A[0,3],A[1,4]))\n",
    "print('{}{:2d} {:2d} {:2d} {:2d} {:2d}{}'.format(colors.fg.red,A[2,0],A[2,1],A[2,2],A[0,3],A[2,4],colors.reset))\n",
    "print('{:2d} {:2d} {:2d} {:2d} {:2d}'.format(A[3,0],A[3,1],A[3,2],A[0,3],A[3,4]))\n",
    "print('{:2d} {:2d} {:2d} {:2d} {:2d}'.format(A[4,0],A[4,1],A[4,2],A[0,3],A[4,4]))\n",
    "print('\\n')\n",
    "print('A(row 3) = {}{:2d} {:2d} {:2d} {:2d} {:2d}{}'.format(colors.fg.red,A[2,0],A[2,1],A[2,2],A[0,3],A[2,4],colors.reset))\n",
    "As = 'A(row 3) = {}{:2d} {:2d} {:2d} {:2d} {:2d}{}'.format(colors.fg.red,A[2,0],A[2,1],A[2,2],A[0,3],A[2,4],colors.reset);\n"
   ]
  },
  {
   "cell_type": "markdown",
   "metadata": {},
   "source": [
    "## Matrix B"
   ]
  },
  {
   "cell_type": "code",
   "execution_count": 9,
   "metadata": {},
   "outputs": [
    {
     "name": "stdout",
     "output_type": "stream",
     "text": [
      "B = \n",
      "\n",
      " 6  3  3 \u001b[34m 4\u001b[0m  3\n",
      " 3  5 12 \u001b[34m 6\u001b[0m  1\n",
      "11  6  2 \u001b[34m11\u001b[0m  4\n",
      "12  3 12 \u001b[34m 5\u001b[0m 10\n",
      " 8  5  6 \u001b[34m10\u001b[0m  8\n",
      "\n",
      "\n",
      "B(col 4) =\n",
      "\u001b[34m 4\n",
      " 6\n",
      "11\n",
      " 5\n",
      "10\u001b[0m\n"
     ]
    }
   ],
   "source": [
    "print('B = \\n')\n",
    "clr1 = colors.fg.blue; \n",
    "clr2 = colors.reset; \n",
    "\n",
    "print('{:2d} {:2d} {:2d} {}{:2d}{} {:2d}'.format(B[0,0],B[0,1],B[0,2],clr1,B[0,3],clr2,B[0,4]))\n",
    "print('{:2d} {:2d} {:2d} {}{:2d}{} {:2d}'.format(B[1,0],B[1,1],B[1,2],clr1,B[1,3],clr2,B[1,4]))\n",
    "print('{:2d} {:2d} {:2d} {}{:2d}{} {:2d}'.format(B[2,0],B[2,1],B[2,2],clr1,B[2,3],clr2,B[2,4]))\n",
    "print('{:2d} {:2d} {:2d} {}{:2d}{} {:2d}'.format(B[3,0],B[3,1],B[3,2],clr1,B[3,3],clr2,B[3,4]))\n",
    "print('{:2d} {:2d} {:2d} {}{:2d}{} {:2d}'.format(B[4,0],B[4,1],B[4,2],clr1,B[4,3],clr2,B[4,4]))\n",
    "print('\\n')\n",
    "print('B(col 4) =\\n{}{:2d}\\n{:2d}\\n{:2d}\\n{:2d}\\n{:2d}{}'.format(colors.fg.blue,B[0,3],B[1,3],B[2,3],B[3,3],B[4,3],colors.reset))\n",
    "Bs = 'B(col 4) =\\n{}{:2d}\\n{:2d}\\n{:2d}\\n{:2d}\\n{:2d}{}'.format(colors.fg.blue,B[0,3],B[1,3],B[2,3],B[3,3],B[4,3],colors.reset);"
   ]
  },
  {
   "cell_type": "markdown",
   "metadata": {},
   "source": [
    "## C[3,4]"
   ]
  },
  {
   "cell_type": "code",
   "execution_count": 10,
   "metadata": {},
   "outputs": [
    {
     "name": "stdout",
     "output_type": "stream",
     "text": [
      "A(row 3) = \u001b[31m 3  4  1  4  2\u001b[0m \n",
      "*\n",
      " B(col 4) =\n",
      "\u001b[34m 4\n",
      " 6\n",
      "11\n",
      " 5\n",
      "10\u001b[0m\n",
      "\n",
      "C[3,4]:  97 \n",
      "\n",
      "\n",
      "[[199 116 171 200 136]\n",
      " [299 181 267 290 179]\n",
      " [129  63 143  97  93]\n",
      " [311 162 304 264 233]\n",
      " [368 174 249 311 249]]\n"
     ]
    }
   ],
   "source": [
    "print(As ,'\\n*\\n',Bs)\n",
    "C = np.dot(A[2,:],B[:,3]);\n",
    "print(\"\\nC[3,4]: \" ,C , \"\\n\\n\")\n",
    "\n",
    "C = np.dot(A,B);\n",
    "print(C)"
   ]
  },
  {
   "cell_type": "markdown",
   "metadata": {},
   "source": [
    "# Matrix(A) * Vector(B[Col]) = C Matrix\n",
    "Columns of 'C' are combinations of Columns of 'A'\n",
    "\n",
    "2nd Way: Column Way"
   ]
  },
  {
   "cell_type": "markdown",
   "metadata": {},
   "source": [
    "## Matrix A"
   ]
  },
  {
   "cell_type": "code",
   "execution_count": 11,
   "metadata": {},
   "outputs": [
    {
     "name": "stdout",
     "output_type": "stream",
     "text": [
      "A =\n",
      "\u001b[31m\n",
      " 1  5  6  4  8\n",
      " 9 10  9  4  7\n",
      " 3  4  1  4  2\n",
      "10  7  2  4 11\n",
      " 3  2 12  4 10\n"
     ]
    }
   ],
   "source": [
    "print('A =')\n",
    "print(colors.fg.red)\n",
    "print('{:2d} {:2d} {:2d} {:2d} {:2d}'.format(A[0,0],A[0,1],A[0,2],A[0,3],A[0,4]))\n",
    "print('{:2d} {:2d} {:2d} {:2d} {:2d}'.format(A[1,0],A[1,1],A[1,2],A[0,3],A[1,4]))\n",
    "print('{:2d} {:2d} {:2d} {:2d} {:2d}'.format(A[2,0],A[2,1],A[2,2],A[0,3],A[2,4]))\n",
    "print('{:2d} {:2d} {:2d} {:2d} {:2d}'.format(A[3,0],A[3,1],A[3,2],A[0,3],A[3,4]))\n",
    "print('{:2d} {:2d} {:2d} {:2d} {:2d}'.format(A[4,0],A[4,1],A[4,2],A[0,3],A[4,4]))\n"
   ]
  },
  {
   "cell_type": "markdown",
   "metadata": {},
   "source": [
    "## Matrix B"
   ]
  },
  {
   "cell_type": "code",
   "execution_count": 12,
   "metadata": {},
   "outputs": [
    {
     "name": "stdout",
     "output_type": "stream",
     "text": [
      "B = \n",
      "\n",
      "\u001b[34m 6\u001b[0m  3  3  4  3\n",
      "\u001b[34m 3\u001b[0m  5 12  6  1\n",
      "\u001b[34m11\u001b[0m  6  2 11  4\n",
      "\u001b[34m12\u001b[0m  3 12  5 10\n",
      "\u001b[34m 8\u001b[0m  5  6 10  8\n",
      "\n",
      "\n",
      " 6 \u001b[34m 3\u001b[0m  3  4  3\n",
      " 3 \u001b[34m 5\u001b[0m 12  6  1\n",
      "11 \u001b[34m 6\u001b[0m  2 11  4\n",
      "12 \u001b[34m 3\u001b[0m 12  5 10\n",
      " 8 \u001b[34m 5\u001b[0m  6 10  8\n",
      "\n",
      ".\n",
      ".\n"
     ]
    }
   ],
   "source": [
    "print('B = \\n')\n",
    "clr1 = colors.fg.blue; \n",
    "clr2 = colors.reset; \n",
    "\n",
    "print('{}{:2d}{} {:2d} {:2d} {:2d} {:2d}'.format(clr1,B[0,0],clr2,B[0,1],B[0,2],B[0,3],B[0,4]))\n",
    "print('{}{:2d}{} {:2d} {:2d} {:2d} {:2d}'.format(clr1,B[1,0],clr2,B[1,1],B[1,2],B[1,3],B[1,4]))\n",
    "print('{}{:2d}{} {:2d} {:2d} {:2d} {:2d}'.format(clr1,B[2,0],clr2,B[2,1],B[2,2],B[2,3],B[2,4]))\n",
    "print('{}{:2d}{} {:2d} {:2d} {:2d} {:2d}'.format(clr1,B[3,0],clr2,B[3,1],B[3,2],B[3,3],B[3,4]))\n",
    "print('{}{:2d}{} {:2d} {:2d} {:2d} {:2d}'.format(clr1,B[4,0],clr2,B[4,1],B[4,2],B[4,3],B[4,4]))\n",
    "print('\\n')\n",
    "print('{:2d} {}{:2d}{} {:2d} {:2d} {:2d}'.format(B[0,0],clr1,B[0,1],clr2,B[0,2],B[0,3],B[0,4]))\n",
    "print('{:2d} {}{:2d}{} {:2d} {:2d} {:2d}'.format(B[1,0],clr1,B[1,1],clr2,B[1,2],B[1,3],B[1,4]))\n",
    "print('{:2d} {}{:2d}{} {:2d} {:2d} {:2d}'.format(B[2,0],clr1,B[2,1],clr2,B[2,2],B[2,3],B[2,4]))\n",
    "print('{:2d} {}{:2d}{} {:2d} {:2d} {:2d}'.format(B[3,0],clr1,B[3,1],clr2,B[3,2],B[3,3],B[3,4]))\n",
    "print('{:2d} {}{:2d}{} {:2d} {:2d} {:2d}'.format(B[4,0],clr1,B[4,1],clr2,B[4,2],B[4,3],B[4,4]))\n",
    "print('\\n.\\n.')"
   ]
  },
  {
   "cell_type": "markdown",
   "metadata": {},
   "source": [
    "## Matrix C"
   ]
  },
  {
   "cell_type": "code",
   "execution_count": 13,
   "metadata": {},
   "outputs": [
    {
     "name": "stdout",
     "output_type": "stream",
     "text": [
      "C[:,0]:\n",
      "\u001b[35m\n",
      "199\n",
      "299\n",
      "129\n",
      "311\n",
      "368\n",
      "\u001b[0m\n",
      "C[:,1]:\n",
      "\u001b[35m\n",
      "116\n",
      "181\n",
      "63\n",
      "311\n",
      "174\n",
      "\u001b[0m\n",
      "C[:,2]:\n",
      "\u001b[35m\n",
      "171\n",
      "267\n",
      "143\n",
      "304\n",
      "249\n",
      "\u001b[0m\n",
      "C[:,3]:\n",
      "\u001b[35m\n",
      "200\n",
      "290\n",
      "97\n",
      "264\n",
      "311\n",
      "\u001b[0m\n",
      "C[:,4]:\n",
      "\u001b[35m\n",
      "136\n",
      "179\n",
      "93\n",
      "233\n",
      "249\n",
      "\u001b[0m\n",
      "C =\n",
      "\u001b[35m\n",
      "199 116 171 200 136\n",
      "299 181 267 200 179\n",
      "129 63 143 200 93\n",
      "311 162 304 200 233\n",
      "368 174 249 200 249\n"
     ]
    }
   ],
   "source": [
    "C1 = np.dot(A,B[:,0]);\n",
    "C2 = np.dot(A,B[:,1]);\n",
    "C3 = np.dot(A,B[:,2]);\n",
    "C4 = np.dot(A,B[:,3]);\n",
    "C5 = np.dot(A,B[:,4]);\n",
    "\n",
    "print(\"C[:,0]:\");\n",
    "print(colors.fg.purple);\n",
    "print('{:2d}\\n{:2d}\\n{:2d}\\n{:2d}\\n{:2d}'.format(C1[0],C1[1],C1[2],C1[3],C1[4]));\n",
    "print(colors.reset);\n",
    "\n",
    "print(\"C[:,1]:\");\n",
    "print(colors.fg.purple);\n",
    "print('{:2d}\\n{:2d}\\n{:2d}\\n{:2d}\\n{:2d}'.format(C2[0],C2[1],C2[2],C1[3],C2[4]));\n",
    "print(colors.reset);\n",
    "\n",
    "print(\"C[:,2]:\");\n",
    "print(colors.fg.purple);\n",
    "print('{:2d}\\n{:2d}\\n{:2d}\\n{:2d}\\n{:2d}'.format(C3[0],C3[1],C3[2],C3[3],C3[4]));\n",
    "print(colors.reset);\n",
    "\n",
    "print(\"C[:,3]:\");\n",
    "print(colors.fg.purple);\n",
    "print('{:2d}\\n{:2d}\\n{:2d}\\n{:2d}\\n{:2d}'.format(C4[0],C4[1],C4[2],C4[3],C4[4]));\n",
    "print(colors.reset);\n",
    "\n",
    "print(\"C[:,4]:\");\n",
    "print(colors.fg.purple);\n",
    "print('{:2d}\\n{:2d}\\n{:2d}\\n{:2d}\\n{:2d}'.format(C5[0],C5[1],C5[2],C5[3],C5[4]));\n",
    "print(colors.reset);\n",
    "\n",
    "print('C =')\n",
    "print(colors.fg.purple)\n",
    "print('{:2d} {:2d} {:2d} {:2d} {:2d}'.format(C[0,0],C[0,1],C[0,2],C[0,3],C[0,4]))\n",
    "print('{:2d} {:2d} {:2d} {:2d} {:2d}'.format(C[1,0],C[1,1],C[1,2],C[0,3],C[1,4]))\n",
    "print('{:2d} {:2d} {:2d} {:2d} {:2d}'.format(C[2,0],C[2,1],C[2,2],C[0,3],C[2,4]))\n",
    "print('{:2d} {:2d} {:2d} {:2d} {:2d}'.format(C[3,0],C[3,1],C[3,2],C[0,3],C[3,4]))\n",
    "print('{:2d} {:2d} {:2d} {:2d} {:2d}'.format(C[4,0],C[4,1],C[4,2],C[0,3],C[4,4]))"
   ]
  },
  {
   "cell_type": "markdown",
   "metadata": {},
   "source": [
    "# Vector(A[Row]) * Matrix(B) = C Matrix\n",
    "Rows of 'C' are combinations of Row 'B'\n",
    "\n",
    "3rd Way: Row Way\n"
   ]
  },
  {
   "cell_type": "markdown",
   "metadata": {},
   "source": [
    "## Matrix A"
   ]
  },
  {
   "cell_type": "code",
   "execution_count": 14,
   "metadata": {},
   "outputs": [
    {
     "name": "stdout",
     "output_type": "stream",
     "text": [
      "A = \n",
      "\n",
      "\u001b[31m 1  5  6  4  8\u001b[0m\n",
      " 9 10  9  4  7\n",
      " 3  4  1  4  2\n",
      "10  7  2  4 11\n",
      " 3  2 12  4 10\n",
      "\n",
      "\n",
      " 1  5  6  4  8\n",
      "\u001b[31m 9 10  9  4  7\u001b[0m\n",
      " 3  4  1  4  2\n",
      "10  7  2  4 11\n",
      " 3  2 12  4 10\n",
      "\n",
      ".\n",
      ".\n"
     ]
    }
   ],
   "source": [
    "print('A = \\n')\n",
    "print('{}{:2d} {:2d} {:2d} {:2d} {:2d}{}'.format(colors.fg.red,A[0,0],A[0,1],A[0,2],A[0,3],A[0,4],colors.reset));\n",
    "print('{:2d} {:2d} {:2d} {:2d} {:2d}'.format(A[1,0],A[1,1],A[1,2],A[0,3],A[1,4]))\n",
    "print('{:2d} {:2d} {:2d} {:2d} {:2d}'.format(A[2,0],A[2,1],A[2,2],A[0,3],A[2,4]))\n",
    "print('{:2d} {:2d} {:2d} {:2d} {:2d}'.format(A[3,0],A[3,1],A[3,2],A[0,3],A[3,4]))\n",
    "print('{:2d} {:2d} {:2d} {:2d} {:2d}'.format(A[4,0],A[4,1],A[4,2],A[0,3],A[4,4]))\n",
    "print('\\n')\n",
    "print('{:2d} {:2d} {:2d} {:2d} {:2d}'.format(A[0,0],A[0,1],A[0,2],A[0,3],A[0,4],));\n",
    "print('{}{:2d} {:2d} {:2d} {:2d} {:2d}{}'.format(colors.fg.red,A[1,0],A[1,1],A[1,2],A[0,3],A[1,4],colors.reset))\n",
    "print('{:2d} {:2d} {:2d} {:2d} {:2d}'.format(A[2,0],A[2,1],A[2,2],A[0,3],A[2,4]))\n",
    "print('{:2d} {:2d} {:2d} {:2d} {:2d}'.format(A[3,0],A[3,1],A[3,2],A[0,3],A[3,4]))\n",
    "print('{:2d} {:2d} {:2d} {:2d} {:2d}'.format(A[4,0],A[4,1],A[4,2],A[0,3],A[4,4]))\n",
    "print('\\n.\\n.')"
   ]
  },
  {
   "cell_type": "markdown",
   "metadata": {},
   "source": [
    "## Matrix B"
   ]
  },
  {
   "cell_type": "code",
   "execution_count": 15,
   "metadata": {},
   "outputs": [
    {
     "name": "stdout",
     "output_type": "stream",
     "text": [
      "B =\n",
      "\u001b[34m\n",
      " 6  3  3  4  3\n",
      " 3  5 12  6  1\n",
      "11  6  2 11  4\n",
      "12  3 12  5 10\n",
      " 8  5  6 10  8\n",
      "\n",
      "\n"
     ]
    }
   ],
   "source": [
    "print('B =')\n",
    "print(colors.fg.blue)\n",
    "print('{:2d} {:2d} {:2d} {:2d} {:2d}'.format(B[0,0],B[0,1],B[0,2],B[0,3],B[0,4]))\n",
    "print('{:2d} {:2d} {:2d} {:2d} {:2d}'.format(B[1,0],B[1,1],B[1,2],B[1,3],B[1,4]))\n",
    "print('{:2d} {:2d} {:2d} {:2d} {:2d}'.format(B[2,0],B[2,1],B[2,2],B[2,3],B[2,4]))\n",
    "print('{:2d} {:2d} {:2d} {:2d} {:2d}'.format(B[3,0],B[3,1],B[3,2],B[3,3],B[3,4]))\n",
    "print('{:2d} {:2d} {:2d} {:2d} {:2d}'.format(B[4,0],B[4,1],B[4,2],B[4,3],B[4,4]))\n",
    "print('\\n')"
   ]
  },
  {
   "cell_type": "markdown",
   "metadata": {},
   "source": [
    "## Matrix C"
   ]
  },
  {
   "cell_type": "code",
   "execution_count": 16,
   "metadata": {},
   "outputs": [
    {
     "name": "stdout",
     "output_type": "stream",
     "text": [
      "R[0,:]:\n",
      "\u001b[35m\n",
      "199 116 171 200 136\n",
      "\u001b[0m\n",
      "R[1,:]:\n",
      "\u001b[35m\n",
      "299 181 267 200 179\n",
      "\u001b[0m\n",
      "R[2,:]:\n",
      "\u001b[35m\n",
      "129 63 143 97 93\n",
      "\u001b[0m\n",
      "R[3,:]:\n",
      "\u001b[35m\n",
      "311 162 304 264 233\n",
      "\u001b[0m\n",
      "R[4,:]:\n",
      "\u001b[35m\n",
      "368 174 249 311 249\n",
      "\u001b[0m\n",
      "C =\n",
      "\u001b[35m\n",
      "199 116 171 200 136\n",
      "299 181 267 200 179\n",
      "129 63 143 200 93\n",
      "311 162 304 200 233\n",
      "368 174 249 200 249\n"
     ]
    }
   ],
   "source": [
    "R1 = np.dot(A[0,:],B);\n",
    "R2 = np.dot(A[1,:],B);\n",
    "R3 = np.dot(A[2,:],B);\n",
    "R4 = np.dot(A[3,:],B);\n",
    "R5 = np.dot(A[4,:],B);\n",
    "\n",
    "print(\"R[0,:]:\");\n",
    "print(colors.fg.purple);\n",
    "print('{:2d} {:2d} {:2d} {:2d} {:2d}'.format(R1[0],R1[1],R1[2],R1[3],R1[4]));\n",
    "print(colors.reset);\n",
    "\n",
    "print(\"R[1,:]:\");\n",
    "print(colors.fg.purple);\n",
    "print('{:2d} {:2d} {:2d} {:2d} {:2d}'.format(R2[0],R2[1],R2[2],R1[3],R2[4]));\n",
    "print(colors.reset);\n",
    "\n",
    "print(\"R[2,:]:\");\n",
    "print(colors.fg.purple);\n",
    "print('{:2d} {:2d} {:2d} {:2d} {:2d}'.format(R3[0],R3[1],R3[2],R3[3],R3[4]));\n",
    "print(colors.reset);\n",
    "\n",
    "print(\"R[3,:]:\");\n",
    "print(colors.fg.purple);\n",
    "print('{:2d} {:2d} {:2d} {:2d} {:2d}'.format(R4[0],R4[1],R4[2],R4[3],R4[4]));\n",
    "print(colors.reset);\n",
    "\n",
    "print(\"R[4,:]:\");\n",
    "print(colors.fg.purple);\n",
    "print('{:2d} {:2d} {:2d} {:2d} {:2d}'.format(R5[0],R5[1],R5[2],R5[3],R5[4]));\n",
    "print(colors.reset);\n",
    "\n",
    "print('C =')\n",
    "print(colors.fg.purple)\n",
    "print('{:2d} {:2d} {:2d} {:2d} {:2d}'.format(C[0,0],C[0,1],C[0,2],C[0,3],C[0,4]))\n",
    "print('{:2d} {:2d} {:2d} {:2d} {:2d}'.format(C[1,0],C[1,1],C[1,2],C[0,3],C[1,4]))\n",
    "print('{:2d} {:2d} {:2d} {:2d} {:2d}'.format(C[2,0],C[2,1],C[2,2],C[0,3],C[2,4]))\n",
    "print('{:2d} {:2d} {:2d} {:2d} {:2d}'.format(C[3,0],C[3,1],C[3,2],C[0,3],C[3,4]))\n",
    "print('{:2d} {:2d} {:2d} {:2d} {:2d}'.format(C[4,0],C[4,1],C[4,2],C[0,3],C[4,4]))"
   ]
  },
  {
   "cell_type": "markdown",
   "metadata": {},
   "source": [
    "# AB = Sum of (Cols of A) * (Rows of B)\n",
    "4th Way: (M x 1)(1 x N) = Combation of either rows or cols"
   ]
  },
  {
   "cell_type": "code",
   "execution_count": 17,
   "metadata": {},
   "outputs": [
    {
     "name": "stdout",
     "output_type": "stream",
     "text": [
      "[[ 1]\n",
      " [ 9]\n",
      " [ 3]\n",
      " [10]\n",
      " [ 3]]\n",
      "\n",
      "[[6 3 3 4 3]]\n",
      "\n",
      "[[ 6  3  3  4  3]\n",
      " [54 27 27 36 27]\n",
      " [18  9  9 12  9]\n",
      " [60 30 30 40 30]\n",
      " [18  9  9 12  9]]\n"
     ]
    }
   ],
   "source": [
    "print(A[:,0:1])\n",
    "print(\"\")\n",
    "print(B[0:1,:])\n",
    "print(\"\")\n",
    "print(np.dot(A[:,0:1] , B[0:1,:]))"
   ]
  },
  {
   "cell_type": "markdown",
   "metadata": {},
   "source": [
    "# Block Multipication\n",
    "![recursivematrixmultiplication](https://user-images.githubusercontent.com/13907836/48246738-76615780-e3a5-11e8-8f9f-f5fb2b90936f.png)\n"
   ]
  },
  {
   "cell_type": "code",
   "execution_count": 18,
   "metadata": {},
   "outputs": [
    {
     "name": "stdout",
     "output_type": "stream",
     "text": [
      "[[ 8  9  8 11  4  6  5  2  6  9  3  8 12  6  9  2 12  4  6  3]\n",
      " [ 6  4  8 10 10  1  4  6 12  8  7 10  2 10  7 10  5  7  1  8]\n",
      " [ 8  7 11  2 12  9  8  1  3  2 11 10  4  8  2  1  9  9  3  5]\n",
      " [ 3  2  7  4  4  6 10  7  5  7  2  8  7  6 12  5  6  4  4  3]\n",
      " [11  6  5  4  6 10  8  8  2  7  4  5 10  8 10  8 11  8  5  9]\n",
      " [ 5  2 11  1 12  9 11  6  5  6  9  1  6 11  5 11  6  1  1 10]\n",
      " [ 8 12  2  9  2  4  4  6 12  4  7  8 10  5  4  1  3  2  9  5]\n",
      " [ 3  3 11 12 11  6  2  9  3  7  4  3  3  1 12  4  2  8  7  2]\n",
      " [ 8  1 12 10  8  6 11  5  1  1  5  9  4  6 12  8  8  9  2  7]\n",
      " [ 6 10 12  9 10 10  9  6  8  9  3  8  4  6 12 12 11  5 10  6]\n",
      " [ 5  1  1  4 12  2  7  2 12  9  2 10 10 11  6  4 11  1  1  1]\n",
      " [ 4  2 12  4 11  3  9 12 12  2  8  2 12 10  1  1  9  5  8  7]\n",
      " [ 1  3 12  7  1 12 10  3  4 10  9  3  3  3  4 11  5  6 10  1]\n",
      " [ 6  5  6  6  9  7 10  8 11  8  3  2  5  1  1 10  3 11 10  1]\n",
      " [10  3 10 11  7  5  6 10  4 10  1  5  5  7 10  2 11  5 12  8]\n",
      " [ 7  2 11  2  3 11  7  8  9 10 11  9  1  2  3  3  5  8  4 10]\n",
      " [ 1 10  4  5  3  8 11 12  4  4 10 12  2 12  4  3  9  4  2  1]\n",
      " [12  2 12  2 10  3  3  4  7 12  6  2  1  3  1  7  8  5  7  3]\n",
      " [ 2  4  3  8  6  5  1  6 11  1  6  8  4  4  5  8 11  4  3  2]\n",
      " [10  3  7  2 12  1  4  6  7  9  9  5 11  5  1  9  8  1 10  6]]\n",
      "\n",
      "[[ 7  8 12  2  5 10 12 11  8  4 10  7  4  4  8  1  8 12  1  9]\n",
      " [ 1  2 12  3  9  6  2  2  9  6  1 11  4  3  7  2 11  2  4  9]\n",
      " [ 2 11  7 11 12  6  4  7 10 11  9  6 10  7  5  7  8  6  7 10]\n",
      " [12  3  7  6 10  1  7 12 10 11  2  1  8  3  7 11  2  3  9  7]\n",
      " [12  3  6  3 11 11  3  3  3  6  9 12  2 10  7  3  2  8  3  9]\n",
      " [ 4  4  2 10  3  8  3  1 11 10  9  2  4  8 12  2  8  6  4  8]\n",
      " [ 7  5  2  4  6  3  3  4  2  2 12  2  5  1  1  3  4 12  3  3]\n",
      " [11  7  6  3 11  4  8  4 10  2 10  4  3  8 12 11  6  5  5  8]\n",
      " [12  1  7  9  7  4 12 11  1  2  2  9 10  2  4  5  9  4  3  2]\n",
      " [ 4  3  8  2  4  9 10  9 11 12  8  5  7  4  9  4 12  8  1 12]\n",
      " [10  5  5  3  3  5  6  3  4  9  7  7  8  7  5  4  8  2  9  2]\n",
      " [12  1  6 12  6  3 11  8  9  9 11  2  9  2  7  8  3  9  9 10]\n",
      " [ 1  8  3  8  1 10  7 12  5  4  2  2 12  6 11  9  2 11  6  2]\n",
      " [ 9  4 10  4  7 11 10  5  9 11  8  7  6  5 12 10  2  2  1  9]\n",
      " [ 3  2  5  3  5  3  1  9  2  4  1  8 11 10  2  9 12  6 12  6]\n",
      " [ 1  2  6 12  1 10  4  7  5  1  8  2 10  5  5  1  4  5  6 11]\n",
      " [10  9 11 10  3  9  7 12 11  5  4  6  1  9  5  3  5  6 11  8]\n",
      " [ 7  8  3  6 10  9  4  6  9 10  1  3  7  8  5  7  9 10 11  2]\n",
      " [ 2  4  3  9  5  4  6  8  4  4  6  4 10  4 10  3  2  4  7  8]\n",
      " [ 7  2 10 11  5  8  4 12 10  6 12  1  4  5  6  7 10  9 12 10]]\n"
     ]
    }
   ],
   "source": [
    "A = np.random.randint(1,13,(20,20));\n",
    "B = np.random.randint(1,13,(20,20));\n",
    "print(A)\n",
    "print(\"\")\n",
    "print(B)"
   ]
  },
  {
   "cell_type": "code",
   "execution_count": 19,
   "metadata": {},
   "outputs": [],
   "source": [
    "A_one_one = A[0:10,0:10]\n",
    "A_one_two = A[0:10,10:20]\n",
    "\n",
    "A_two_one = A[10:20,0:10]\n",
    "A_two_two = A[0:10,10:20]"
   ]
  },
  {
   "cell_type": "code",
   "execution_count": 20,
   "metadata": {},
   "outputs": [],
   "source": [
    "B_one_one = B[0:10,0:10]\n",
    "B_one_two = B[0:10,10:20]\n",
    "\n",
    "B_two_one = B[10:20,0:10]\n",
    "B_two_two = B[10:20,10:20]"
   ]
  },
  {
   "cell_type": "code",
   "execution_count": 21,
   "metadata": {},
   "outputs": [
    {
     "name": "stdout",
     "output_type": "stream",
     "text": [
      "[[ 852  646  917  874  798  877  861 1081  996  906]\n",
      " [1046  562  955  897  909  908  913 1039  957  912]\n",
      " [ 907  643  828  823  823  895  746  807  920  906]\n",
      " [ 727  518  675  736  680  707  677  829  768  698]\n",
      " [ 908  718  965  937  832 1049  868 1079 1081  901]\n",
      " [ 850  616  841  851  770  965  737  860  884  812]\n",
      " [ 805  487  802  743  720  704  814  905  801  717]\n",
      " [ 755  538  674  690  828  692  617  804  807  789]\n",
      " [ 925  666  839  905  873  861  746  987  953  878]\n",
      " [1044  737 1094 1139 1044 1088  959 1204 1181 1051]]\n"
     ]
    }
   ],
   "source": [
    "C_one_one = np.dot(A_one_one,B_one_one) + np.dot(A_one_two,B_two_one)\n",
    "#C_one_two\n",
    "#C_two_one\n",
    "#C_two_two\n",
    "\n",
    "print(C_one_one)"
   ]
  },
  {
   "cell_type": "code",
   "execution_count": 22,
   "metadata": {},
   "outputs": [
    {
     "name": "stdout",
     "output_type": "stream",
     "text": [
      "[[ 852  646  917  874  798  877  861 1081  996  906]\n",
      " [1046  562  955  897  909  908  913 1039  957  912]\n",
      " [ 907  643  828  823  823  895  746  807  920  906]\n",
      " [ 727  518  675  736  680  707  677  829  768  698]\n",
      " [ 908  718  965  937  832 1049  868 1079 1081  901]\n",
      " [ 850  616  841  851  770  965  737  860  884  812]\n",
      " [ 805  487  802  743  720  704  814  905  801  717]\n",
      " [ 755  538  674  690  828  692  617  804  807  789]\n",
      " [ 925  666  839  905  873  861  746  987  953  878]\n",
      " [1044  737 1094 1139 1044 1088  959 1204 1181 1051]]\n"
     ]
    }
   ],
   "source": [
    "C = np.dot(A,B)\n",
    "print(C[0:10 , 0:10])"
   ]
  },
  {
   "cell_type": "markdown",
   "metadata": {},
   "source": [
    "# Inverse of Matrix\n",
    "The inverse of A is A-1 only when A × A-1 = A-1 × A = I ( Therefore MAT(A) MUST be a Square matrix)\n",
    "\n",
    "\n",
    "## Why Do We Need an Inverse?\n",
    "Because with matrices we don't divide! Seriously, there is no concept of dividing by a matrix.\n",
    "\n",
    "But we can multiply by an inverse, which achieves the same thing."
   ]
  },
  {
   "cell_type": "code",
   "execution_count": null,
   "metadata": {},
   "outputs": [],
   "source": []
  },
  {
   "cell_type": "markdown",
   "metadata": {},
   "source": [
    "# Non-Inveritbale matrices\n",
    "If the column space and row space are multiples of each other then they lie on the same line and tell us no new information"
   ]
  },
  {
   "cell_type": "code",
   "execution_count": 23,
   "metadata": {},
   "outputs": [
    {
     "name": "stdout",
     "output_type": "stream",
     "text": [
      "[[1 4]\n",
      " [2 8]]\n"
     ]
    }
   ],
   "source": [
    "A = np.matrix([[1 , 4] , [2 , 8]])\n",
    "print(A)"
   ]
  },
  {
   "cell_type": "markdown",
   "metadata": {},
   "source": [
    "# Colmun Space\n",
    "* Remember origin is point (0,0) *\n",
    "\n",
    "Since ALL Columns lie on same line means they arent inveritable"
   ]
  },
  {
   "cell_type": "code",
   "execution_count": 25,
   "metadata": {},
   "outputs": [
    {
     "data": {
      "text/plain": [
       "<matplotlib.lines.Line2D at 0x1d1a5aa8eb8>"
      ]
     },
     "execution_count": 25,
     "metadata": {},
     "output_type": "execute_result"
    },
    {
     "data": {
      "image/png": "[encoded data removed]",
      "text/plain": [
       "<Figure size 432x288 with 1 Axes>"
      ]
     },
     "metadata": {
      "needs_background": "light"
     },
     "output_type": "display_data"
    }
   ],
   "source": [
    "import matplotlib.pyplot as plt\n",
    "\n",
    "pt_origin =[0,0];\n",
    "pt_one = [A[0,0] ,A[1,0]]; # Col 1\n",
    "pt_two = [A[0,1] ,A[1,1]]; # Col 2\n",
    "\n",
    "coefficients = np.polyfit([pt_origin[0],pt_one[0]], [pt_origin[1], pt_one[1]], 1); \n",
    "polynomial = np.poly1d(coefficients);\n",
    "\n",
    "x_axis = np.linspace(-10, 10);\n",
    "y_axis = polynomial(x_axis);\n",
    "fig = plt.figure();\n",
    "axes = fig.add_axes([0.1, 0.1, 1, 1]);\n",
    "axes.plot(x_axis, y_axis);\n",
    "plt.axis([-10, 10, -10, 10]);\n",
    "\n",
    "axes.plot(pt_origin[0], pt_origin[1] , marker='o', color='red');\n",
    "axes.plot(pt_one[0], pt_one[1], marker='o', color='green');\n",
    "axes.plot(pt_two[0], pt_two[1], marker='o', color='black');\n",
    "axes.axhline(y=0, color='k')\n",
    "axes.axvline(x=0, color='k')"
   ]
  },
  {
   "cell_type": "markdown",
   "metadata": {},
   "source": [
    "# Row Space\n",
    "* Remember origin is point (0,0) *\n",
    "\n",
    "Since ALL Rows lie on same line means they arent inveritable"
   ]
  },
  {
   "cell_type": "code",
   "execution_count": 26,
   "metadata": {},
   "outputs": [
    {
     "data": {
      "text/plain": [
       "<matplotlib.lines.Line2D at 0x1d1a5b2be48>"
      ]
     },
     "execution_count": 26,
     "metadata": {},
     "output_type": "execute_result"
    },
    {
     "data": {
      "image/png": "[encoded data removed]",
      "text/plain": [
       "<Figure size 432x288 with 1 Axes>"
      ]
     },
     "metadata": {
      "needs_background": "light"
     },
     "output_type": "display_data"
    }
   ],
   "source": [
    "pt_origin =[0,0];\n",
    "pt_one = [A[0,0] ,A[0,1]]; # row 1\n",
    "pt_two = [A[1,0] ,A[1,1]]; # row 2\n",
    "\n",
    "coefficients = np.polyfit([pt_origin[0],pt_one[0]], [pt_origin[1], pt_one[1]], 1); \n",
    "polynomial = np.poly1d(coefficients);\n",
    "\n",
    "x_axis = np.linspace(-10, 10);\n",
    "y_axis = polynomial(x_axis);\n",
    "fig = plt.figure();\n",
    "axes = fig.add_axes([0.1, 0.1, 1, 1]);\n",
    "axes.plot(x_axis, y_axis);\n",
    "plt.axis([-10, 10, -10, 10]);\n",
    "\n",
    "axes.plot(pt_origin[0], pt_origin[1] , marker='o', color='red');\n",
    "axes.plot(pt_one[0], pt_one[1], marker='o', color='green');\n",
    "axes.plot(pt_two[0], pt_two[1], marker='o', color='black');\n",
    "axes.axhline(y=0, color='k')\n",
    "axes.axvline(x=0, color='k')"
   ]
  },
  {
   "cell_type": "code",
   "execution_count": 27,
   "metadata": {},
   "outputs": [
    {
     "name": "stdout",
     "output_type": "stream",
     "text": [
      "Not Inveritble\n"
     ]
    }
   ],
   "source": [
    "try:\n",
    "    inverse = np.linalg.inv(A)\n",
    "except np.linalg.LinAlgError:\n",
    "    # Not invertible\n",
    "    print(\"Not Inveritble\");\n",
    "else:\n",
    "    # continue with what you were doing\n",
    "    print(\"Inveritble\");"
   ]
  },
  {
   "cell_type": "markdown",
   "metadata": {},
   "source": [
    "# Inveritbale matrices"
   ]
  },
  {
   "cell_type": "code",
   "execution_count": 28,
   "metadata": {},
   "outputs": [
    {
     "name": "stdout",
     "output_type": "stream",
     "text": [
      "[[1 4]\n",
      " [2 7]]\n"
     ]
    }
   ],
   "source": [
    "A = np.matrix([[1 , 4] , [2 , 7]])\n",
    "print(A)"
   ]
  },
  {
   "cell_type": "markdown",
   "metadata": {},
   "source": [
    "# Colmun Space\n",
    "* Remember origin is point (0,0) *\n",
    "\n",
    "Since ALL Colms do NOT lie on the same line means they are inveritable"
   ]
  },
  {
   "cell_type": "code",
   "execution_count": 29,
   "metadata": {},
   "outputs": [
    {
     "data": {
      "text/plain": [
       "<matplotlib.lines.Line2D at 0x1d1a5b7fba8>"
      ]
     },
     "execution_count": 29,
     "metadata": {},
     "output_type": "execute_result"
    },
    {
     "data": {
      "image/png": "[encoded data removed]",
      "text/plain": [
       "<Figure size 432x288 with 1 Axes>"
      ]
     },
     "metadata": {
      "needs_background": "light"
     },
     "output_type": "display_data"
    }
   ],
   "source": [
    "pt_origin =[0,0];\n",
    "pt_one = [A[0,0] ,A[1,0]]; # Col 1\n",
    "pt_two = [A[0,1] ,A[1,1]]; # Col 2\n",
    "\n",
    "coefficients = np.polyfit([pt_origin[0],pt_one[0]], [pt_origin[1], pt_one[1]], 1); \n",
    "polynomial = np.poly1d(coefficients);\n",
    "\n",
    "x_axis = np.linspace(-10, 10);\n",
    "y_axis = polynomial(x_axis);\n",
    "fig = plt.figure();\n",
    "axes = fig.add_axes([0.1, 0.1, 1, 1]);\n",
    "axes.plot(x_axis, y_axis);\n",
    "plt.axis([-10, 10, -10, 10]);\n",
    "\n",
    "axes.plot(pt_origin[0], pt_origin[1] , marker='o', color='red');\n",
    "axes.plot(pt_one[0], pt_one[1], marker='o', color='green');\n",
    "axes.plot(pt_two[0], pt_two[1], marker='o', color='black');\n",
    "axes.axhline(y=0, color='k')\n",
    "axes.axvline(x=0, color='k')"
   ]
  },
  {
   "cell_type": "markdown",
   "metadata": {},
   "source": [
    "# Row Space\n",
    "* Remember origin is point (0,0) *\n",
    "\n",
    "Since ALL Rows do NOT lie on the same line means they are inveritable"
   ]
  },
  {
   "cell_type": "code",
   "execution_count": 30,
   "metadata": {},
   "outputs": [
    {
     "data": {
      "text/plain": [
       "<matplotlib.lines.Line2D at 0x1d1a5c17400>"
      ]
     },
     "execution_count": 30,
     "metadata": {},
     "output_type": "execute_result"
    },
    {
     "data": {
      "image/png": "[encoded data removed]",
      "text/plain": [
       "<Figure size 432x288 with 1 Axes>"
      ]
     },
     "metadata": {
      "needs_background": "light"
     },
     "output_type": "display_data"
    }
   ],
   "source": [
    "pt_origin =[0,0];\n",
    "pt_one = [A[0,0] ,A[0,1]]; # row 1\n",
    "pt_two = [A[1,0] ,A[1,1]]; # row 2\n",
    "\n",
    "coefficients = np.polyfit([pt_origin[0],pt_one[0]], [pt_origin[1], pt_one[1]], 1); \n",
    "polynomial = np.poly1d(coefficients);\n",
    "\n",
    "x_axis = np.linspace(-10, 10);\n",
    "y_axis = polynomial(x_axis);\n",
    "fig = plt.figure();\n",
    "axes = fig.add_axes([0.1, 0.1, 1, 1]);\n",
    "axes.plot(x_axis, y_axis);\n",
    "plt.axis([-10, 10, -10, 10]);\n",
    "\n",
    "axes.plot(pt_origin[0], pt_origin[1] , marker='o', color='red');\n",
    "axes.plot(pt_one[0], pt_one[1], marker='o', color='green');\n",
    "axes.plot(pt_two[0], pt_two[1], marker='o', color='black');\n",
    "axes.axhline(y=0, color='k')\n",
    "axes.axvline(x=0, color='k')"
   ]
  },
  {
   "cell_type": "code",
   "execution_count": 31,
   "metadata": {},
   "outputs": [
    {
     "name": "stdout",
     "output_type": "stream",
     "text": [
      "Inveritble\n"
     ]
    }
   ],
   "source": [
    "try:\n",
    "    inverse = np.linalg.inv(A)\n",
    "except np.linalg.LinAlgError:\n",
    "    # Not invertible\n",
    "    print(\"Not Inveritble\");\n",
    "else:\n",
    "    # continue with what you were doing\n",
    "    print(\"Inveritble\");"
   ]
  },
  {
   "cell_type": "code",
   "execution_count": 32,
   "metadata": {},
   "outputs": [
    {
     "name": "stdout",
     "output_type": "stream",
     "text": [
      "Inverse: \n",
      " [[-7.  4.]\n",
      " [ 2. -1.]]\n",
      "\n",
      "Dot(A,A-1): \n",
      " [[1. 0.]\n",
      " [0. 1.]]\n",
      "\n",
      "Dot(A-1,A): \n",
      " [[1. 0.]\n",
      " [0. 1.]]\n"
     ]
    }
   ],
   "source": [
    "print('Inverse: \\n' , inverse)\n",
    "print('\\nDot(A,A-1): \\n' , np.dot(A,inverse))\n",
    "print('\\nDot(A-1,A): \\n' ,  np.dot(inverse,A))\n"
   ]
  },
  {
   "cell_type": "code",
   "execution_count": 33,
   "metadata": {},
   "outputs": [
    {
     "data": {
      "text/plain": [
       "<matplotlib.lines.Line2D at 0x1d1a5c924a8>"
      ]
     },
     "execution_count": 33,
     "metadata": {},
     "output_type": "execute_result"
    },
    {
     "data": {
      "image/png": "[encoded data removed]",
      "text/plain": [
       "<Figure size 432x288 with 1 Axes>"
      ]
     },
     "metadata": {
      "needs_background": "light"
     },
     "output_type": "display_data"
    }
   ],
   "source": [
    "pt_origin =[0,0];\n",
    "pt_one = [A[0,0] ,A[0,1]]; # row 1\n",
    "pt_two = [A[1,0] ,A[1,1]]; # row 2\n",
    "pt_three = [inverse[0,0] , inverse[0,1]]; # inverse row 1\n",
    "pt_four = [inverse[1,0]  , inverse[1,1]]; # inverse row 2\n",
    "\n",
    "coefficients = np.polyfit([pt_origin[0],pt_one[0]], [pt_origin[1], pt_one[1]], 1); \n",
    "polynomial = np.poly1d(coefficients);\n",
    "\n",
    "x_axis = np.linspace(-10, 10);\n",
    "y_axis = polynomial(x_axis);\n",
    "fig = plt.figure();\n",
    "axes = fig.add_axes([0.1, 0.1, 1, 1]);\n",
    "axes.plot(x_axis, y_axis);\n",
    "plt.axis([-10, 10, -10, 10]);\n",
    "\n",
    "axes.plot(pt_origin[0], pt_origin[1] , marker='o', color='red');\n",
    "axes.plot(pt_one[0], pt_one[1], marker='o', color='green');\n",
    "axes.plot(pt_two[0], pt_two[1], marker='o', color='black');\n",
    "axes.plot(pt_three[0], pt_three[1], marker='+', color='green');\n",
    "axes.plot(pt_four[0], pt_four[1], marker='+', color='black');\n",
    "\n",
    "axes.axhline(y=0, color='k')\n",
    "axes.axvline(x=0, color='k')"
   ]
  }
 ],
 "metadata": {
  "kernelspec": {
   "display_name": "Python 3",
   "language": "python",
   "name": "python3"
  },
  "language_info": {
   "codemirror_mode": {
    "name": "ipython",
    "version": 3
   },
   "file_extension": ".py",
   "mimetype": "text/x-python",
   "name": "python",
   "nbconvert_exporter": "python",
   "pygments_lexer": "ipython3",
   "version": "3.7.0"
  }
 },
 "nbformat": 4,
 "nbformat_minor": 2
}
