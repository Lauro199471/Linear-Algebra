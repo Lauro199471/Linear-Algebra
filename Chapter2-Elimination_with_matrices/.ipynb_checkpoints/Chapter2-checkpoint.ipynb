{
 "cells": [
  {
   "cell_type": "code",
   "execution_count": 1,
   "metadata": {},
   "outputs": [],
   "source": [
    "import matplotlib.pyplot as plt\n",
    "import numpy as np"
   ]
  },
  {
   "cell_type": "markdown",
   "metadata": {},
   "source": [
    "# Get a Random 5x5 Matrix"
   ]
  },
  {
   "cell_type": "code",
   "execution_count": 2,
   "metadata": {},
   "outputs": [
    {
     "name": "stdout",
     "output_type": "stream",
     "text": [
      "[[0.03681546 0.696064   0.89105481 0.95839784 0.85608598]\n",
      " [0.54638061 0.84286171 0.98029155 0.33426775 0.8087761 ]\n",
      " [0.16437937 0.29230786 0.79457838 0.85730644 0.96583724]\n",
      " [0.04227088 0.80608982 0.5595194  0.23604147 0.62223712]\n",
      " [0.08974594 0.71131907 0.33281773 0.10358123 0.89038955]]\n",
      "\n",
      "\n",
      "[[0. 0. 0. 0. 1.]\n",
      " [0. 0. 0. 1. 0.]\n",
      " [0. 0. 1. 0. 0.]\n",
      " [0. 1. 0. 0. 0.]\n",
      " [1. 0. 0. 0. 0.]]\n"
     ]
    }
   ],
   "source": [
    "A_matrix = np.random.rand(5,5)\n",
    "print(A_matrix)\n",
    "\n",
    "print(\"\\n\")\n",
    "\n",
    "identityMatrix = np.eye(len(A_matrix));\n",
    "identityMatrixFlip = np.fliplr(identityMatrix);\n",
    "print(identityMatrixFlip)"
   ]
  },
  {
   "cell_type": "markdown",
   "metadata": {},
   "source": [
    "# Print the Matrix with pixels to see Matrix being manipulated"
   ]
  },
  {
   "cell_type": "code",
   "execution_count": 3,
   "metadata": {},
   "outputs": [
    {
     "data": {
      "image/png": "[encoded data removed]",
      "text/plain": [
       "<Figure size 360x360 with 1 Axes>"
      ]
     },
     "metadata": {
      "needs_background": "light"
     },
     "output_type": "display_data"
    }
   ],
   "source": [
    "fig = plt.figure(figsize = (5,5) ) # create a 5 x 5 figure \n",
    "ax = fig.add_subplot(1,1,1)\n",
    "ax.imshow(A_matrix, interpolation='none')\n",
    "plt.gca().invert_yaxis()\n",
    "plt.show()"
   ]
  },
  {
   "cell_type": "markdown",
   "metadata": {},
   "source": [
    "# Row Operation( x(vector or matrix) is on the left)"
   ]
  },
  {
   "cell_type": "markdown",
   "metadata": {},
   "source": [
    "![row1](https://user-images.githubusercontent.com/13907836/48046138-22a60280-e148-11e8-80e2-b02b69bac588.png)"
   ]
  },
  {
   "cell_type": "code",
   "execution_count": 4,
   "metadata": {},
   "outputs": [
    {
     "name": "stdout",
     "output_type": "stream",
     "text": [
      "Original is : \n",
      " [[0.03681546 0.696064   0.89105481 0.95839784 0.85608598]\n",
      " [0.54638061 0.84286171 0.98029155 0.33426775 0.8087761 ]\n",
      " [0.16437937 0.29230786 0.79457838 0.85730644 0.96583724]\n",
      " [0.04227088 0.80608982 0.5595194  0.23604147 0.62223712]\n",
      " [0.08974594 0.71131907 0.33281773 0.10358123 0.89038955]]\n",
      "\n",
      "Dot product is : \n",
      " [[0.08974594 0.71131907 0.33281773 0.10358123 0.89038955]\n",
      " [0.04227088 0.80608982 0.5595194  0.23604147 0.62223712]\n",
      " [0.16437937 0.29230786 0.79457838 0.85730644 0.96583724]\n",
      " [0.54638061 0.84286171 0.98029155 0.33426775 0.8087761 ]\n",
      " [0.03681546 0.696064   0.89105481 0.95839784 0.85608598]]\n"
     ]
    },
    {
     "data": {
      "image/png": "[encoded data removed]",
      "text/plain": [
       "<Figure size 360x360 with 1 Axes>"
      ]
     },
     "metadata": {
      "needs_background": "light"
     },
     "output_type": "display_data"
    },
    {
     "data": {
      "image/png": "[encoded data removed]",
      "text/plain": [
       "<Figure size 360x360 with 1 Axes>"
      ]
     },
     "metadata": {
      "needs_background": "light"
     },
     "output_type": "display_data"
    }
   ],
   "source": [
    "DotProduct = np.dot(identityMatrixFlip , A_matrix);\n",
    "print('Original is : \\n' , A_matrix)\n",
    "print('\\nDot product is : \\n' , DotProduct)\n",
    "\n",
    "fig = plt.figure(figsize = (5,5) ) # create a 5 x 5 figure \n",
    "ax = fig.add_subplot(1,1,1)\n",
    "ax.imshow(DotProduct, interpolation='none')\n",
    "plt.gca().invert_yaxis()\n",
    "plt.show()\n",
    "\n",
    "fig = plt.figure(figsize = (5,5) ) # create a 5 x 5 figure \n",
    "ax = fig.add_subplot(1,1,1)\n",
    "ax.imshow(A_matrix, interpolation='none')\n",
    "plt.gca().invert_yaxis()\n",
    "plt.show()\n"
   ]
  },
  {
   "cell_type": "markdown",
   "metadata": {},
   "source": [
    "# Column Operation( x(vector or matrix) is on the left)\n",
    "![col](https://user-images.githubusercontent.com/13907836/48046562-bcba7a80-e149-11e8-9d23-5f9dbb2c002a.png)\n",
    "\n"
   ]
  },
  {
   "cell_type": "code",
   "execution_count": 5,
   "metadata": {},
   "outputs": [
    {
     "ename": "NameError",
     "evalue": "name 'im' is not defined",
     "output_type": "error",
     "traceback": [
      "\u001b[1;31m---------------------------------------------------------------------------\u001b[0m",
      "\u001b[1;31mNameError\u001b[0m                                 Traceback (most recent call last)",
      "\u001b[1;32m<ipython-input-5-d7cc97e765c0>\u001b[0m in \u001b[0;36m<module>\u001b[1;34m()\u001b[0m\n\u001b[0;32m      1\u001b[0m \u001b[0mDotProduct\u001b[0m \u001b[1;33m=\u001b[0m \u001b[0mnp\u001b[0m\u001b[1;33m.\u001b[0m\u001b[0mdot\u001b[0m\u001b[1;33m(\u001b[0m\u001b[0mA_matrix\u001b[0m\u001b[1;33m,\u001b[0m\u001b[0midentityMatrixFlip\u001b[0m\u001b[1;33m)\u001b[0m\u001b[1;33m;\u001b[0m\u001b[1;33m\u001b[0m\u001b[0m\n\u001b[1;32m----> 2\u001b[1;33m \u001b[0mprint\u001b[0m\u001b[1;33m(\u001b[0m\u001b[1;34m'Original is : \\n'\u001b[0m \u001b[1;33m,\u001b[0m \u001b[0mim\u001b[0m\u001b[1;33m)\u001b[0m\u001b[1;33m\u001b[0m\u001b[0m\n\u001b[0m\u001b[0;32m      3\u001b[0m \u001b[0mprint\u001b[0m\u001b[1;33m(\u001b[0m\u001b[1;34m'\\nDot product is : \\n'\u001b[0m \u001b[1;33m,\u001b[0m \u001b[0mDotProduct\u001b[0m\u001b[1;33m)\u001b[0m\u001b[1;33m\u001b[0m\u001b[0m\n\u001b[0;32m      4\u001b[0m \u001b[1;33m\u001b[0m\u001b[0m\n\u001b[0;32m      5\u001b[0m \u001b[0mfig\u001b[0m \u001b[1;33m=\u001b[0m \u001b[0mplt\u001b[0m\u001b[1;33m.\u001b[0m\u001b[0mfigure\u001b[0m\u001b[1;33m(\u001b[0m\u001b[0mfigsize\u001b[0m \u001b[1;33m=\u001b[0m \u001b[1;33m(\u001b[0m\u001b[1;36m5\u001b[0m\u001b[1;33m,\u001b[0m\u001b[1;36m5\u001b[0m\u001b[1;33m)\u001b[0m \u001b[1;33m)\u001b[0m \u001b[1;31m# create a 5 x 5 figure\u001b[0m\u001b[1;33m\u001b[0m\u001b[0m\n",
      "\u001b[1;31mNameError\u001b[0m: name 'im' is not defined"
     ]
    }
   ],
   "source": [
    "DotProduct = np.dot(A_matrix,identityMatrixFlip);\n",
    "print('Original is : \\n' , A_matrix)\n",
    "print('\\nDot product is : \\n' , DotProduct)\n",
    "\n",
    "fig = plt.figure(figsize = (5,5) ) # create a 5 x 5 figure \n",
    "ax = fig.add_subplot(1,1,1)\n",
    "ax.imshow(DotProduct, interpolation='none')\n",
    "plt.gca().invert_yaxis()\n",
    "plt.show()\n",
    "\n",
    "fig = plt.figure(figsize = (5,5) ) # create a 5 x 5 figure \n",
    "ax = fig.add_subplot(1,1,1)\n",
    "ax.imshow(A_matrix, interpolation='none')\n",
    "plt.gca().invert_yaxis()\n",
    "plt.show()"
   ]
  }
 ],
 "metadata": {
  "kernelspec": {
   "display_name": "Python 3",
   "language": "python",
   "name": "python3"
  },
  "language_info": {
   "codemirror_mode": {
    "name": "ipython",
    "version": 3
   },
   "file_extension": ".py",
   "mimetype": "text/x-python",
   "name": "python",
   "nbconvert_exporter": "python",
   "pygments_lexer": "ipython3",
   "version": "3.7.0"
  }
 },
 "nbformat": 4,
 "nbformat_minor": 2
}
