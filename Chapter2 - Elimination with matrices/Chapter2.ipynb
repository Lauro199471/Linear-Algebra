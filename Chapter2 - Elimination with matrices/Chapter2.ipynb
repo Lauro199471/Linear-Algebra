{
 "cells": [
  {
   "cell_type": "code",
   "execution_count": 1,
   "metadata": {},
   "outputs": [],
   "source": [
    "import matplotlib.pyplot as plt\n",
    "import numpy as np"
   ]
  },
  {
   "cell_type": "markdown",
   "metadata": {},
   "source": [
    "# Get a Random 5x5 Matrix"
   ]
  },
  {
   "cell_type": "code",
   "execution_count": 2,
   "metadata": {},
   "outputs": [
    {
     "name": "stdout",
     "output_type": "stream",
     "text": [
      "[[0.4590666  0.05033062 0.63362787 0.48813892 0.14635305]\n",
      " [0.94361807 0.46792137 0.30591939 0.21510633 0.14311549]\n",
      " [0.67821532 0.14020738 0.03414561 0.77876074 0.42307247]\n",
      " [0.38080618 0.7471504  0.08823051 0.29601668 0.71179487]\n",
      " [0.68330242 0.42227316 0.32563589 0.49464986 0.56297283]]\n",
      "\n",
      "\n",
      "[[0. 0. 0. 0. 1.]\n",
      " [0. 0. 0. 1. 0.]\n",
      " [0. 0. 1. 0. 0.]\n",
      " [0. 1. 0. 0. 0.]\n",
      " [1. 0. 0. 0. 0.]]\n"
     ]
    }
   ],
   "source": [
    "A_matrix = np.random.rand(5,5)\n",
    "print(A_matrix)\n",
    "\n",
    "print(\"\\n\")\n",
    "\n",
    "identityMatrix = np.eye(len(A_matrix));\n",
    "identityMatrixFlip = np.fliplr(identityMatrix);\n",
    "print(identityMatrixFlip)"
   ]
  },
  {
   "cell_type": "markdown",
   "metadata": {},
   "source": [
    "# Print the Matrix with pixels to see Matrix being manipulated"
   ]
  },
  {
   "cell_type": "code",
   "execution_count": 3,
   "metadata": {},
   "outputs": [
    {
     "data": {
      "image/png": "[encoded data removed]",
      "text/plain": [
       "<Figure size 360x360 with 1 Axes>"
      ]
     },
     "metadata": {
      "needs_background": "light"
     },
     "output_type": "display_data"
    }
   ],
   "source": [
    "fig = plt.figure(figsize = (5,5) ) # create a 5 x 5 figure \n",
    "ax = fig.add_subplot(1,1,1)\n",
    "ax.imshow(A_matrix, interpolation='none')\n",
    "plt.gca().invert_yaxis()\n",
    "plt.show()"
   ]
  },
  {
   "cell_type": "markdown",
   "metadata": {},
   "source": [
    "# Row Operation( x(vector or matrix) is on the left)"
   ]
  },
  {
   "cell_type": "markdown",
   "metadata": {},
   "source": [
    "![row1](https://user-images.githubusercontent.com/13907836/48046138-22a60280-e148-11e8-80e2-b02b69bac588.png)"
   ]
  },
  {
   "cell_type": "code",
   "execution_count": 4,
   "metadata": {},
   "outputs": [
    {
     "name": "stdout",
     "output_type": "stream",
     "text": [
      "Original is : \n",
      " [[0.4590666  0.05033062 0.63362787 0.48813892 0.14635305]\n",
      " [0.94361807 0.46792137 0.30591939 0.21510633 0.14311549]\n",
      " [0.67821532 0.14020738 0.03414561 0.77876074 0.42307247]\n",
      " [0.38080618 0.7471504  0.08823051 0.29601668 0.71179487]\n",
      " [0.68330242 0.42227316 0.32563589 0.49464986 0.56297283]]\n",
      "\n",
      "Dot product is : \n",
      " [[0.68330242 0.42227316 0.32563589 0.49464986 0.56297283]\n",
      " [0.38080618 0.7471504  0.08823051 0.29601668 0.71179487]\n",
      " [0.67821532 0.14020738 0.03414561 0.77876074 0.42307247]\n",
      " [0.94361807 0.46792137 0.30591939 0.21510633 0.14311549]\n",
      " [0.4590666  0.05033062 0.63362787 0.48813892 0.14635305]]\n"
     ]
    },
    {
     "data": {
      "image/png": "[encoded data removed]",
      "text/plain": [
       "<Figure size 360x360 with 1 Axes>"
      ]
     },
     "metadata": {
      "needs_background": "light"
     },
     "output_type": "display_data"
    },
    {
     "data": {
      "image/png": "[encoded data removed]",
      "text/plain": [
       "<Figure size 360x360 with 1 Axes>"
      ]
     },
     "metadata": {
      "needs_background": "light"
     },
     "output_type": "display_data"
    }
   ],
   "source": [
    "DotProduct = np.dot(identityMatrixFlip , A_matrix);\n",
    "print('Original is : \\n' , A_matrix)\n",
    "print('\\nDot product is : \\n' , DotProduct)\n",
    "\n",
    "fig = plt.figure(figsize = (5,5) ) # create a 5 x 5 figure \n",
    "ax = fig.add_subplot(1,1,1)\n",
    "ax.imshow(DotProduct, interpolation='none')\n",
    "plt.gca().invert_yaxis()\n",
    "plt.show()\n",
    "\n",
    "fig = plt.figure(figsize = (5,5) ) # create a 5 x 5 figure \n",
    "ax = fig.add_subplot(1,1,1)\n",
    "ax.imshow(A_matrix, interpolation='none')\n",
    "plt.gca().invert_yaxis()\n",
    "plt.show()\n"
   ]
  },
  {
   "cell_type": "markdown",
   "metadata": {},
   "source": [
    "# Column Operation( x(vector or matrix) is on the left)\n",
    "![col](https://user-images.githubusercontent.com/13907836/48046562-bcba7a80-e149-11e8-9d23-5f9dbb2c002a.png)\n",
    "\n"
   ]
  },
  {
   "cell_type": "code",
   "execution_count": 5,
   "metadata": {},
   "outputs": [
    {
     "name": "stdout",
     "output_type": "stream",
     "text": [
      "Original is : \n",
      " [[0.4590666  0.05033062 0.63362787 0.48813892 0.14635305]\n",
      " [0.94361807 0.46792137 0.30591939 0.21510633 0.14311549]\n",
      " [0.67821532 0.14020738 0.03414561 0.77876074 0.42307247]\n",
      " [0.38080618 0.7471504  0.08823051 0.29601668 0.71179487]\n",
      " [0.68330242 0.42227316 0.32563589 0.49464986 0.56297283]]\n",
      "\n",
      "Dot product is : \n",
      " [[0.14635305 0.48813892 0.63362787 0.05033062 0.4590666 ]\n",
      " [0.14311549 0.21510633 0.30591939 0.46792137 0.94361807]\n",
      " [0.42307247 0.77876074 0.03414561 0.14020738 0.67821532]\n",
      " [0.71179487 0.29601668 0.08823051 0.7471504  0.38080618]\n",
      " [0.56297283 0.49464986 0.32563589 0.42227316 0.68330242]]\n"
     ]
    },
    {
     "data": {
      "image/png": "[encoded data removed]",
      "text/plain": [
       "<Figure size 360x360 with 1 Axes>"
      ]
     },
     "metadata": {
      "needs_background": "light"
     },
     "output_type": "display_data"
    },
    {
     "data": {
      "image/png": "[encoded data removed]",
      "text/plain": [
       "<Figure size 360x360 with 1 Axes>"
      ]
     },
     "metadata": {
      "needs_background": "light"
     },
     "output_type": "display_data"
    }
   ],
   "source": [
    "DotProduct = np.dot(A_matrix,identityMatrixFlip);\n",
    "print('Original is : \\n' , A_matrix)\n",
    "print('\\nDot product is : \\n' , DotProduct)\n",
    "\n",
    "fig = plt.figure(figsize = (5,5) ) # create a 5 x 5 figure \n",
    "ax = fig.add_subplot(1,1,1)\n",
    "ax.imshow(DotProduct, interpolation='none')\n",
    "plt.gca().invert_yaxis()\n",
    "plt.show()\n",
    "\n",
    "fig = plt.figure(figsize = (5,5) ) # create a 5 x 5 figure \n",
    "ax = fig.add_subplot(1,1,1)\n",
    "ax.imshow(A_matrix, interpolation='none')\n",
    "plt.gca().invert_yaxis()\n",
    "plt.show()"
   ]
  }
 ],
 "metadata": {
  "kernelspec": {
   "display_name": "Python 3",
   "language": "python",
   "name": "python3"
  },
  "language_info": {
   "codemirror_mode": {
    "name": "ipython",
    "version": 3
   },
   "file_extension": ".py",
   "mimetype": "text/x-python",
   "name": "python",
   "nbconvert_exporter": "python",
   "pygments_lexer": "ipython3",
   "version": "3.7.0"
  }
 },
 "nbformat": 4,
 "nbformat_minor": 2
}
