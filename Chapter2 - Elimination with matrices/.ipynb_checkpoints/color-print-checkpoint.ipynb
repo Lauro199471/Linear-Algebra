{
 "cells": [
  {
   "cell_type": "code",
   "execution_count": 1,
   "metadata": {},
   "outputs": [],
   "source": [
    "class colors: \n",
    "    reset='\\033[0m'\n",
    "    bold='\\033[01m'\n",
    "    disable='\\033[02m'\n",
    "    underline='\\033[04m'\n",
    "    reverse='\\033[07m'\n",
    "    strikethrough='\\033[09m'\n",
    "    invisible='\\033[08m'\n",
    "    class fg: \n",
    "        black='\\033[30m'\n",
    "        red='\\033[31m'\n",
    "        green='\\033[32m'\n",
    "        orange='\\033[33m'\n",
    "        blue='\\033[34m'\n",
    "        purple='\\033[35m'\n",
    "        cyan='\\033[36m'\n",
    "        lightgrey='\\033[37m'\n",
    "        darkgrey='\\033[90m'\n",
    "        lightred='\\033[91m'\n",
    "        lightgreen='\\033[92m'\n",
    "        yellow='\\033[93m'\n",
    "        lightblue='\\033[94m'\n",
    "        pink='\\033[95m'\n",
    "        lightcyan='\\033[96m'\n",
    "    class bg: \n",
    "        black='\\033[40m'\n",
    "        red='\\033[41m'\n",
    "        green='\\033[42m'\n",
    "        orange='\\033[43m'\n",
    "        blue='\\033[44m'\n",
    "        purple='\\033[45m'\n",
    "        cyan='\\033[46m'\n",
    "        lightgrey='\\033[47m'"
   ]
  },
  {
   "cell_type": "code",
   "execution_count": null,
   "metadata": {},
   "outputs": [],
   "source": []
  }
 ],
 "metadata": {
  "kernelspec": {
   "display_name": "Python 3",
   "language": "python",
   "name": "python3"
  },
  "language_info": {
   "codemirror_mode": {
    "name": "ipython",
    "version": 3
   },
   "file_extension": ".py",
   "mimetype": "text/x-python",
   "name": "python",
   "nbconvert_exporter": "python",
   "pygments_lexer": "ipython3",
   "version": "3.7.0"
  }
 },
 "nbformat": 4,
 "nbformat_minor": 2
}
