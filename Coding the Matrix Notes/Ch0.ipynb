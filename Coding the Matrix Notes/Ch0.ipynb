{
 "cells": [
  {
   "cell_type": "markdown",
   "metadata": {},
   "source": [
    "# 0.1 Set terminology and notation"
   ]
  },
  {
   "cell_type": "markdown",
   "metadata": {},
   "source": [
    "__set__: a collection of mathematical objects in which each object is considered to occur at most once"
   ]
  },
  {
   "cell_type": "markdown",
   "metadata": {},
   "source": [
    "The objects belonging to a set are its __elements.__ "
   ]
  },
  {
   "cell_type": "code",
   "execution_count": 1,
   "metadata": {},
   "outputs": [
    {
     "name": "stdout",
     "output_type": "stream",
     "text": [
      "{1, 2, 3}\n",
      "{1.0, 'Hello', (1, 2, 3)}\n"
     ]
    }
   ],
   "source": [
    "# set of integers\n",
    "my_set = {1, 2, 3}\n",
    "print(my_set)\n",
    "\n",
    "# set of mixed datatypes\n",
    "my_set = {1.0, \"Hello\", (1, 2, 3)}\n",
    "print(my_set)"
   ]
  },
  {
   "cell_type": "markdown",
   "metadata": {},
   "source": [
    "We use curly braces to indicate a set specified by explicitly enumerating its elements.\n",
    "For example, {♥, ♠, ♣, ♦} is the set of suits in a traditional deck of cards"
   ]
  },
  {
   "cell_type": "markdown",
   "metadata": {},
   "source": [
    "The symbol ∈ is used to indicate that an object belongs to a set (equivalently, that the set\n",
    "contains the object). For example, ♥ ∈ {♥, ♠, ♣, ♦}.\n"
   ]
  },
  {
   "cell_type": "code",
   "execution_count": 8,
   "metadata": {},
   "outputs": [
    {
     "name": "stdout",
     "output_type": "stream",
     "text": [
      "1 in my_set:  True\n",
      "'1' in my_set:  False\n",
      "'Hello' in my_set:  True\n"
     ]
    }
   ],
   "source": [
    "print(\"1 in my_set: \",1 in my_set)\n",
    "print(\"'1' in my_set: \" , '1' in my_set)\n",
    "print(\"'Hello' in my_set: \" , 'Hello' in my_set)"
   ]
  },
  {
   "cell_type": "markdown",
   "metadata": {},
   "source": [
    "One set _S1_ is contained in another set _S2_ (written S1 ⊆ S2) if every element of _S1_ belongs to _S2._ Two sets are equal if they contain exactly the same elements."
   ]
  },
  {
   "cell_type": "code",
   "execution_count": 14,
   "metadata": {},
   "outputs": [
    {
     "name": "stdout",
     "output_type": "stream",
     "text": [
      "1. s1 == s2 :  True\n",
      "2. s1 == s2 :  False\n",
      "3. s1 == s2 :  True\n"
     ]
    }
   ],
   "source": [
    "s1 = {'Apple', 'Orange', 'Banana'}\n",
    "s2 = {'Apple', 'Orange', 'Banana'}\n",
    "print(\"1. s1 == s2 : \" , s1 == s2)\n",
    "\n",
    "s1 = {'Apple', 'Banana', 'Banana'}\n",
    "s2 = {'Apple', 'Orange', 'Banana'}\n",
    "print(\"2. s1 == s2 : \" , s1 == s2)\n",
    "\n",
    "s1 = {'Apple', 'Banana', 'Orange'}\n",
    "s2 = {'Apple', 'Orange', 'Banana'}\n",
    "print(\"3. s1 == s2 : \" , s1 == s2)"
   ]
  },
  {
   "cell_type": "markdown",
   "metadata": {},
   "source": [
    "set 'R': consists of all real numbers"
   ]
  },
  {
   "cell_type": "markdown",
   "metadata": {},
   "source": [
    "set 'C': consists of all complex numbers."
   ]
  },
  {
   "cell_type": "markdown",
   "metadata": {},
   "source": [
    "If a set 'S' is __not__ infinite, we use |S| to denote its cardinality, __the number of elements it contains.__\n",
    "For example, the set of suits has cardinality 4.\n",
    "\n",
    "| Operation |  Result              |\n",
    "|:---------:|----------------------|\n",
    "| len(s)    |cardinality of set s|"
   ]
  },
  {
   "cell_type": "code",
   "execution_count": 18,
   "metadata": {},
   "outputs": [
    {
     "name": "stdout",
     "output_type": "stream",
     "text": [
      "Cardinality of S1:  3\n",
      "Cardinality of S1:  4\n"
     ]
    }
   ],
   "source": [
    "s1 = {'Apple', 'Orange', 'Banana' , 'Apple'}\n",
    "print(\"Cardinality of S1: \" , len(s1))\n",
    "\n",
    "s1 = {'Apple', 'Orange', 'Banana' , 'Pineapple'}\n",
    "print(\"Cardinality of S1: \" , len(s1))"
   ]
  },
  {
   "cell_type": "markdown",
   "metadata": {},
   "source": [
    "# 0.2 Cartesian product"
   ]
  },
  {
   "cell_type": "markdown",
   "metadata": {},
   "source": [
    "One from column A, one from column B.\n"
   ]
  },
  {
   "cell_type": "markdown",
   "metadata": {},
   "source": [
    "The Cartesian product of two sets A and B is the set of all pairs (a, b) where a ∈ A and b ∈ B.\n"
   ]
  },
  {
   "cell_type": "markdown",
   "metadata": {},
   "source": [
    "Example 0.2.1: For the sets A = {1, 2, 3} and B = {♥, ♠, ♣, ♦}, the Cartesian product is"
   ]
  },
  {
   "cell_type": "markdown",
   "metadata": {},
   "source": [
    "{(1, ♥),(2, ♥),(3, ♥),(1, ♠),(2, ♠),(3, ♠),(1, ♣),(2, ♣),(3, ♣),(1, ♦),(2, ♦),(3, ♦)}\n"
   ]
  },
  {
   "cell_type": "code",
   "execution_count": 29,
   "metadata": {},
   "outputs": [
    {
     "name": "stdout",
     "output_type": "stream",
     "text": [
      "[(1, '♥'), (1, '♠'), (1, '♣'), (1, '♦'), (2, '♥'), (2, '♠'), (2, '♣'), (2, '♦'), (3, '♥'), (3, '♠'), (3, '♣'), (3, '♦')]\n"
     ]
    }
   ],
   "source": [
    "from itertools import product\n",
    "\n",
    "A = [ 1, 2, 3 ] # first set \n",
    "B = [ '♥', '♠', '♣', '♦'] # second set \n",
    "print(list(product(A,B)))"
   ]
  },
  {
   "cell_type": "code",
   "execution_count": 30,
   "metadata": {},
   "outputs": [
    {
     "name": "stdout",
     "output_type": "stream",
     "text": [
      "[('♥', 1), ('♥', 2), ('♥', 3), ('♠', 1), ('♠', 2), ('♠', 3), ('♣', 1), ('♣', 2), ('♣', 3), ('♦', 1), ('♦', 2), ('♦', 3)]\n"
     ]
    }
   ],
   "source": [
    "print(list(product(B,A)))"
   ]
  },
  {
   "cell_type": "markdown",
   "metadata": {},
   "source": [
    "What is the cardinality of A × B?"
   ]
  },
  {
   "cell_type": "code",
   "execution_count": 32,
   "metadata": {},
   "outputs": [
    {
     "name": "stdout",
     "output_type": "stream",
     "text": [
      "|A x B| =  12\n"
     ]
    }
   ],
   "source": [
    "card_A_B = list(product(A,B));\n",
    "print(\"|A x B| = \" , len(card_A_B))"
   ]
  },
  {
   "cell_type": "markdown",
   "metadata": {},
   "source": [
    "### Theory :"
   ]
  },
  {
   "cell_type": "markdown",
   "metadata": {},
   "source": [
    "For finite sets A and B, |A × B| = |A|·|B|"
   ]
  },
  {
   "cell_type": "code",
   "execution_count": 37,
   "metadata": {},
   "outputs": [
    {
     "name": "stdout",
     "output_type": "stream",
     "text": [
      "|A| =  3\n",
      "|B| =  4\n",
      "|A| x |B| =  12\n"
     ]
    }
   ],
   "source": [
    "print(\"|A| = \" , len(A))\n",
    "print(\"|B| = \" , len(B))\n",
    "print(\"|A| x |B| = \" , len(A) * len(B))"
   ]
  },
  {
   "cell_type": "code",
   "execution_count": null,
   "metadata": {},
   "outputs": [],
   "source": []
  }
 ],
 "metadata": {
  "kernelspec": {
   "display_name": "Python 3",
   "language": "python",
   "name": "python3"
  },
  "language_info": {
   "codemirror_mode": {
    "name": "ipython",
    "version": 3
   },
   "file_extension": ".py",
   "mimetype": "text/x-python",
   "name": "python",
   "nbconvert_exporter": "python",
   "pygments_lexer": "ipython3",
   "version": "3.6.7"
  }
 },
 "nbformat": 4,
 "nbformat_minor": 2
}
