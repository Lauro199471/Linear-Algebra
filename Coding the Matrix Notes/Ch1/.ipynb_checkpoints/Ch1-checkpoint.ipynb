{
 "cells": [
  {
   "cell_type": "markdown",
   "metadata": {},
   "source": [
    "# Chapter 1\n",
    "## The Field"
   ]
  },
  {
   "cell_type": "markdown",
   "metadata": {},
   "source": [
    "__field__: a collection of values with a plus operation and a times operation."
   ]
  },
  {
   "cell_type": "markdown",
   "metadata": {},
   "source": [
    "## Introduction to complex numbers"
   ]
  },
  {
   "cell_type": "markdown",
   "metadata": {},
   "source": [
    "By definition,\n",
    "\n",
    "(i^2) = −1"
   ]
  },
  {
   "cell_type": "markdown",
   "metadata": {},
   "source": [
    "Python supports complex numbers. The square root of -9, the imaginary number 3i, is written\n",
    "3j."
   ]
  },
  {
   "cell_type": "markdown",
   "metadata": {},
   "source": [
    "Thus j plays the role of i. (In electrical engineering, i means “current”)\n"
   ]
  },
  {
   "cell_type": "code",
   "execution_count": 1,
   "metadata": {},
   "outputs": [
    {
     "name": "stdout",
     "output_type": "stream",
     "text": [
      "(11+23j)\n"
     ]
    }
   ],
   "source": [
    "print((1+3j) + (10+20j))"
   ]
  },
  {
   "cell_type": "markdown",
   "metadata": {},
   "source": [
    "You can obtain the real and imaginary parts of a complex number using a dot notation.\n"
   ]
  },
  {
   "cell_type": "code",
   "execution_count": 2,
   "metadata": {},
   "outputs": [
    {
     "name": "stdout",
     "output_type": "stream",
     "text": [
      "x real:  4.0\n",
      "x imag:  3.0\n",
      "type(x):  <class 'complex'>\n"
     ]
    }
   ],
   "source": [
    "x = 4 + 3j\n",
    "print(\"x real: \", x.real)\n",
    "print(\"x imag: \", x.imag)\n",
    "print(\"type(x): \", type(x))"
   ]
  },
  {
   "cell_type": "markdown",
   "metadata": {},
   "source": [
    "## 1.2 Playing with _C_"
   ]
  },
  {
   "cell_type": "markdown",
   "metadata": {},
   "source": [
    "Because each complex number z consists of two ordinary numbers, z.real and z.imag, it is\n",
    "traditional to think of z as specifying a point, a location, in the plane (the complex plane)."
   ]
  },
  {
   "cell_type": "markdown",
   "metadata": {},
   "source": [
    "![annotation 2018-12-15 204720](https://user-images.githubusercontent.com/13907836/50050266-ccaf6d80-00aa-11e9-8b47-a6b5a761175c.jpg)\n",
    "\n"
   ]
  },
  {
   "cell_type": "code",
   "execution_count": 3,
   "metadata": {},
   "outputs": [
    {
     "data": {
      "text/plain": [
       "(-1, 5)"
      ]
     },
     "execution_count": 3,
     "metadata": {},
     "output_type": "execute_result"
    },
    {
     "data": {
      "image/png": "[encoded data removed]",
      "text/plain": [
       "<Figure size 432x288 with 1 Axes>"
      ]
     },
     "metadata": {
      "needs_background": "light"
     },
     "output_type": "display_data"
    }
   ],
   "source": [
    "%matplotlib inline\n",
    "import matplotlib.pyplot as plt\n",
    "import numpy as np\n",
    "\n",
    "S = np.array([ \n",
    "     [2. + 2.j], \n",
    "     [3. + 2.j], \n",
    "     [1.75 + 1.j], \n",
    "     [2. +1.j], \n",
    "     [2.25 + 1.j], \n",
    "     [2.5 + 1.j], \n",
    "     [2.75 + 1.j], \n",
    "     [3. + 1.j], \n",
    "     [3.25 + 1.j]\n",
    "    ])\n",
    "\n",
    "S = np.array(S)\n",
    "fig,ax = plt.subplots()\n",
    "ax.scatter(S.real,S.imag)\n",
    "ax.set_xlim([-1, 5])\n",
    "ax.set_ylim([-1, 5])"
   ]
  },
  {
   "cell_type": "markdown",
   "metadata": {},
   "source": [
    "## 1.3 The absolute value of a complex number\n"
   ]
  },
  {
   "cell_type": "markdown",
   "metadata": {},
   "source": [
    "The absolute value of a complex number z, written |z| (and, in Python, abs(z)) is the distance\n",
    "from the origin to the corresponding point in the complex plane."
   ]
  },
  {
   "cell_type": "markdown",
   "metadata": {},
   "source": [
    "![annotation 2018-12-15 210641](https://user-images.githubusercontent.com/13907836/50050379-8f001400-00ad-11e9-9795-b2660582c22a.jpg)\n",
    "\n"
   ]
  },
  {
   "cell_type": "markdown",
   "metadata": {},
   "source": [
    "By the Pythagorean Theorem:\n",
    "    \n",
    "|z|^2 = (z.real)^2 + (z.imag)^2."
   ]
  },
  {
   "cell_type": "code",
   "execution_count": 4,
   "metadata": {},
   "outputs": [
    {
     "name": "stdout",
     "output_type": "stream",
     "text": [
      "5.0\n"
     ]
    }
   ],
   "source": [
    "print(abs(3+4j))"
   ]
  },
  {
   "cell_type": "markdown",
   "metadata": {},
   "source": [
    "## 1.4 Adding complex numbers\n"
   ]
  },
  {
   "cell_type": "markdown",
   "metadata": {},
   "source": [
    "Suppose we add a complex number, say 1 + 2i, to each complex number z in S. That is, we\n",
    "derive a new set by applying the following function to each element of S:"
   ]
  },
  {
   "cell_type": "markdown",
   "metadata": {},
   "source": [
    "f(z)=1+2i + z\n"
   ]
  },
  {
   "cell_type": "markdown",
   "metadata": {},
   "source": [
    "This function increases each real coordinate (the x coordinate) by 1 and increases each imaginary\n",
    "coordinate (the y coordinate) by 2. The effect is to shift the picture one unit to the right and\n",
    "two units up:"
   ]
  },
  {
   "cell_type": "code",
   "execution_count": 5,
   "metadata": {},
   "outputs": [
    {
     "data": {
      "text/plain": [
       "(-1, 5)"
      ]
     },
     "execution_count": 5,
     "metadata": {},
     "output_type": "execute_result"
    },
    {
     "data": {
      "image/png": "[encoded data removed]",
      "text/plain": [
       "<Figure size 432x288 with 1 Axes>"
      ]
     },
     "metadata": {
      "needs_background": "light"
     },
     "output_type": "display_data"
    }
   ],
   "source": [
    "%matplotlib inline\n",
    "import matplotlib.pyplot as plt\n",
    "import numpy as np\n",
    "\n",
    "S = np.array([ \n",
    "     [2. + 2.j], \n",
    "     [3. + 2.j], \n",
    "     [1.75 + 1.j], \n",
    "     [2. +1.j], \n",
    "     [2.25 + 1.j], \n",
    "     [2.5 + 1.j], \n",
    "     [2.75 + 1.j], \n",
    "     [3. + 1.j], \n",
    "     [3.25 + 1.j]\n",
    "    ])\n",
    "\n",
    "s = np.array([1. + 2.j])\n",
    "for i in range(0 , len(S)):\n",
    "    S[i] = S[i] + s\n",
    "\n",
    "fig,ax = plt.subplots()\n",
    "ax.scatter(S.real,S.imag)\n",
    "ax.set_xlim([-1, 5])\n",
    "ax.set_ylim([-1, 5])"
   ]
  },
  {
   "cell_type": "markdown",
   "metadata": {},
   "source": [
    "This transformation of the numbers in S is called a __translation.__"
   ]
  },
  {
   "cell_type": "markdown",
   "metadata": {},
   "source": [
    "## 1.5 Complex numbers as arrows\n"
   ]
  },
  {
   "cell_type": "markdown",
   "metadata": {},
   "source": [
    "It is helpful to visualize a translation f(z) by an arrow. The\n",
    "tail of the arrow is located at any point z in the complex plane; the head of the arrow is then\n",
    "located at the point f(z), the translation of z. Of course, this representation is not unique."
   ]
  },
  {
   "cell_type": "markdown",
   "metadata": {},
   "source": [
    "Since a translation has the form f(z) = z0 + z, we represent the translation by the complex\n",
    "number z0. It is therefore appropriate to represent the complex number z0 by an arrow."
   ]
  },
  {
   "cell_type": "markdown",
   "metadata": {},
   "source": [
    "![annotation 2018-12-15 212823](https://user-images.githubusercontent.com/13907836/50050465-78a78780-00b0-11e9-8a93-9d94ae7135e5.jpg)\n"
   ]
  },
  {
   "cell_type": "markdown",
   "metadata": {},
   "source": [
    "## 1.6 Multiplying complex numbers by a positive real number\n"
   ]
  },
  {
   "cell_type": "markdown",
   "metadata": {},
   "source": [
    "Now suppose we halve each complex number in S:\n",
    "g(z) = (1/2)z"
   ]
  },
  {
   "cell_type": "markdown",
   "metadata": {},
   "source": [
    "This operation simply halves the real coordinate and the imaginary coordinate of each complex\n",
    "number. The effect on the picture is to move all the points closer from the origin but also closer\n",
    "to each other:"
   ]
  },
  {
   "cell_type": "code",
   "execution_count": 6,
   "metadata": {},
   "outputs": [
    {
     "data": {
      "text/plain": [
       "(-1, 5)"
      ]
     },
     "execution_count": 6,
     "metadata": {},
     "output_type": "execute_result"
    },
    {
     "data": {
      "image/png": "[encoded data removed]",
      "text/plain": [
       "<Figure size 432x288 with 1 Axes>"
      ]
     },
     "metadata": {
      "needs_background": "light"
     },
     "output_type": "display_data"
    }
   ],
   "source": [
    "%matplotlib inline\n",
    "import matplotlib.pyplot as plt\n",
    "import numpy as np\n",
    "\n",
    "S = np.array([ \n",
    "     [2. + 2.j], \n",
    "     [3. + 2.j], \n",
    "     [1.75 + 1.j], \n",
    "     [2. +1.j], \n",
    "     [2.25 + 1.j], \n",
    "     [2.5 + 1.j], \n",
    "     [2.75 + 1.j], \n",
    "     [3. + 1.j], \n",
    "     [3.25 + 1.j]\n",
    "    ])\n",
    "\n",
    "for i in range(0 , len(S)):\n",
    "    S[i] = S[i] * (0.5)\n",
    "\n",
    "fig,ax = plt.subplots()\n",
    "ax.scatter(S.real,S.imag)\n",
    "ax.set_xlim([-1, 5])\n",
    "ax.set_ylim([-1, 5])"
   ]
  },
  {
   "cell_type": "markdown",
   "metadata": {},
   "source": [
    "This operation is called __scaling.__ The scale of the picture has changed. Similarly, doubling each\n",
    "complex number moves the points farther from the origin and from each other."
   ]
  },
  {
   "cell_type": "markdown",
   "metadata": {},
   "source": [
    "## 1.7 Multiplying complex numbers by a negative number: rotation by 180 degrees"
   ]
  },
  {
   "cell_type": "markdown",
   "metadata": {},
   "source": [
    "Here is the result of multiplying each complex number by -1:"
   ]
  },
  {
   "cell_type": "code",
   "execution_count": 7,
   "metadata": {},
   "outputs": [
    {
     "data": {
      "text/plain": [
       "(-5, 5)"
      ]
     },
     "execution_count": 7,
     "metadata": {},
     "output_type": "execute_result"
    },
    {
     "data": {
      "image/png": "[encoded data removed]",
      "text/plain": [
       "<Figure size 432x288 with 1 Axes>"
      ]
     },
     "metadata": {
      "needs_background": "light"
     },
     "output_type": "display_data"
    }
   ],
   "source": [
    "%matplotlib inline\n",
    "import matplotlib.pyplot as plt\n",
    "import numpy as np\n",
    "\n",
    "S = np.array([ \n",
    "     [2. + 2.j], \n",
    "     [3. + 2.j], \n",
    "     [1.75 + 1.j], \n",
    "     [2. +1.j], \n",
    "     [2.25 + 1.j], \n",
    "     [2.5 + 1.j], \n",
    "     [2.75 + 1.j], \n",
    "     [3. + 1.j], \n",
    "     [3.25 + 1.j]\n",
    "    ])\n",
    "\n",
    "for i in range(0 , len(S)):\n",
    "    S[i] = S[i] * (-1)\n",
    "\n",
    "fig,ax = plt.subplots()\n",
    "ax.scatter(S.real,S.imag)\n",
    "ax.set_xlim([-5, 5])\n",
    "ax.set_ylim([-5, 5])"
   ]
  },
  {
   "cell_type": "markdown",
   "metadata": {},
   "source": [
    "## 1.8 Multiplying by i: rotation by 90 degrees\n"
   ]
  },
  {
   "cell_type": "markdown",
   "metadata": {},
   "source": [
    "For this effect, a point located at (x, y) must be moved to (−y, x). The complex number located\n",
    "at (x, y) is x + iy. "
   ]
  },
  {
   "cell_type": "markdown",
   "metadata": {},
   "source": [
    "Multiplying x + iy by i yields ix + (i^2)y, which is ix − y, which is the complex number represented\n",
    "by the point (−y, x)."
   ]
  },
  {
   "cell_type": "code",
   "execution_count": 8,
   "metadata": {},
   "outputs": [
    {
     "data": {
      "text/plain": [
       "(-5, 5)"
      ]
     },
     "execution_count": 8,
     "metadata": {},
     "output_type": "execute_result"
    },
    {
     "data": {
      "image/png": "[encoded data removed]",
      "text/plain": [
       "<Figure size 432x288 with 1 Axes>"
      ]
     },
     "metadata": {
      "needs_background": "light"
     },
     "output_type": "display_data"
    }
   ],
   "source": [
    "%matplotlib inline\n",
    "import matplotlib.pyplot as plt\n",
    "import numpy as np\n",
    "\n",
    "S = np.array([ \n",
    "     [2. + 2.j], \n",
    "     [3. + 2.j], \n",
    "     [1.75 + 1.j], \n",
    "     [2. +1.j], \n",
    "     [2.25 + 1.j], \n",
    "     [2.5 + 1.j], \n",
    "     [2.75 + 1.j], \n",
    "     [3. + 1.j], \n",
    "     [3.25 + 1.j]\n",
    "    ])\n",
    "\n",
    "for i in range(0 , len(S)):\n",
    "    S[i] = S[i] * (1j)\n",
    "\n",
    "fig,ax = plt.subplots()\n",
    "ax.scatter(S.real,S.imag)\n",
    "ax.set_xlim([-5, 5])\n",
    "ax.set_ylim([-5, 5])"
   ]
  },
  {
   "cell_type": "markdown",
   "metadata": {},
   "source": [
    "Task: Create a new plot in which the points of S are rotated by 90 degrees and scaled\n",
    "by 1/2 and then shifted down by one unit and to the right two units."
   ]
  },
  {
   "cell_type": "code",
   "execution_count": 9,
   "metadata": {},
   "outputs": [
    {
     "data": {
      "text/plain": [
       "(-5, 5)"
      ]
     },
     "execution_count": 9,
     "metadata": {},
     "output_type": "execute_result"
    },
    {
     "data": {
      "image/png": "[encoded data removed]",
      "text/plain": [
       "<Figure size 432x288 with 1 Axes>"
      ]
     },
     "metadata": {
      "needs_background": "light"
     },
     "output_type": "display_data"
    }
   ],
   "source": [
    "%matplotlib inline\n",
    "import matplotlib.pyplot as plt\n",
    "import numpy as np\n",
    "\n",
    "S = np.array([ \n",
    "     [2. + 2.j], \n",
    "     [3. + 2.j], \n",
    "     [1.75 + 1.j], \n",
    "     [2. +1.j], \n",
    "     [2.25 + 1.j], \n",
    "     [2.5 + 1.j], \n",
    "     [2.75 + 1.j], \n",
    "     [3. + 1.j], \n",
    "     [3.25 + 1.j]\n",
    "    ])\n",
    "\n",
    "for i in range(0 , len(S)):\n",
    "    S[i] = (0.5) * (S[i] * (1j)) + (2 - 1j)\n",
    "\n",
    "fig,ax = plt.subplots()\n",
    "ax.scatter(S.real,S.imag)\n",
    "ax.set_xlim([-5, 5])\n",
    "ax.set_ylim([-5, 5])"
   ]
  },
  {
   "cell_type": "markdown",
   "metadata": {},
   "source": [
    "## 1.9 The unit circle in the complex plane: argument and angle\n"
   ]
  },
  {
   "cell_type": "markdown",
   "metadata": {},
   "source": [
    "We shall see that it is not a coincidence that rotation by 180 or 90 degrees can be represented\n",
    "by complex multiplication: any rotation can be so represented. However, it is convenient to use\n",
    "radians instead of degrees to measure the angle of rotation."
   ]
  },
  {
   "cell_type": "markdown",
   "metadata": {},
   "source": [
    "![annotation 2018-12-15 222347](https://user-images.githubusercontent.com/13907836/50065369-0e075200-016b-11e9-82a0-96fa76d25239.jpg)\n"
   ]
  },
  {
   "cell_type": "code",
   "execution_count": 10,
   "metadata": {},
   "outputs": [],
   "source": [
    "def normalize_complex_arr(a):\n",
    "    a_oo = a - a.real.min() - 1j*a.imag.min() # origin offsetted\n",
    "    return a_oo/np.abs(a_oo).max()"
   ]
  },
  {
   "cell_type": "code",
   "execution_count": 11,
   "metadata": {},
   "outputs": [
    {
     "data": {
      "image/png": "[encoded data removed]",
      "text/plain": [
       "<Figure size 432x288 with 1 Axes>"
      ]
     },
     "metadata": {
      "needs_background": "light"
     },
     "output_type": "display_data"
    }
   ],
   "source": [
    "# Unit Cirlce\n",
    "fig = plt.figure()\n",
    "ax = fig.add_subplot(1, 1, 1)\n",
    "ax.set_xlim([-3, 3])\n",
    "ax.set_ylim([-3, 3])\n",
    "\n",
    "circ = plt.Circle((0, 0), radius=1, edgecolor='r', facecolor='None')\n",
    "ax.add_patch(circ)\n",
    "\n",
    "\n",
    "# Draw a point\n",
    "s = np.array([1. + 2.j])\n",
    "norm_s = (1 / np.abs(s)) * s # Normalize point\n",
    "\n",
    "ax.scatter(s.real,s.imag)\n",
    "ax.scatter(norm_s.real,norm_s.imag)\n",
    "\n",
    "plt.show()"
   ]
  },
  {
   "cell_type": "markdown",
   "metadata": {},
   "source": [
    " ## 1.10 Rotation by τ radians "
   ]
  },
  {
   "cell_type": "markdown",
   "metadata": {},
   "source": [
    "![annotation 2018-12-16 195143](https://user-images.githubusercontent.com/13907836/50065582-1c09a280-016c-11e9-8daf-b7769e6b0849.jpg)\n",
    "![annotation 2018-12-16 200801](https://user-images.githubusercontent.com/13907836/50066030-507e5e00-016e-11e9-8bc3-36cb24fd48d2.jpg)\n"
   ]
  },
  {
   "cell_type": "code",
   "execution_count": 22,
   "metadata": {},
   "outputs": [],
   "source": [
    "import math\n",
    "import cmath\n",
    "\n",
    "def normalize_complex_arr(a):\n",
    "    a_oo = a - a.real.min() - 1j*a.imag.min() # origin offsetted\n",
    "    return a_oo/np.abs(a_oo).max()"
   ]
  },
  {
   "cell_type": "code",
   "execution_count": 23,
   "metadata": {},
   "outputs": [],
   "source": [
    "# gets angle. return in radians, between  [-π, π]\n",
    "#print(\"Complex number Angle: \",cmath.phase(0+1j) )\n",
    "\n",
    "def rotate_complex_num(point ,theta):\n",
    "    radTheta = math.radians(theta) + cmath.phase(point)\n",
    "    e_theta_i = math.e ** (radTheta * 1j)\n",
    "    z = len(point) * e_theta_i\n",
    "    \n",
    "    #if isinstance(z, complex):\n",
    "    #    print('z is complex')\n",
    "    \n",
    "    return z"
   ]
  },
  {
   "cell_type": "code",
   "execution_count": 30,
   "metadata": {},
   "outputs": [
    {
     "name": "stdout",
     "output_type": "stream",
     "text": [
      "The angle between z_normalized(orange) and z_moveTo(green) is :  180.00000000000003\n"
     ]
    },
    {
     "data": {
      "image/png": "[encoded data removed]",
      "text/plain": [
       "<Figure size 432x288 with 1 Axes>"
      ]
     },
     "metadata": {
      "needs_background": "light"
     },
     "output_type": "display_data"
    }
   ],
   "source": [
    "# Unit Cirlce\n",
    "fig = plt.figure()\n",
    "ax = fig.add_subplot(1, 1, 1)\n",
    "ax.set_xlim([-3, 3])\n",
    "ax.set_ylim([-3, 3])\n",
    "\n",
    "circ = plt.Circle((0, 0), radius=1, edgecolor='r', facecolor='None')\n",
    "ax.add_patch(circ)\n",
    "\n",
    "\n",
    "# Draw a point\n",
    "s = np.array([1. + 2.j])\n",
    "norm_s = (1 / np.abs(s)) * s # Normalize point\n",
    "\n",
    "rot_norm_s = rotate_complex_num(norm_s , 180)\n",
    "print('The angle between z_normalized(orange) and z_moveTo(green) is : ' , \n",
    "     abs(math.degrees(cmath.phase(rot_norm_s) - cmath.phase(norm_s))) )\n",
    "\n",
    "ax.scatter(s.real,s.imag)\n",
    "ax.scatter(norm_s.real,norm_s.imag)\n",
    "ax.scatter(rot_norm_s.real,rot_norm_s.imag)\n",
    "\n",
    "plt.show()"
   ]
  },
  {
   "cell_type": "code",
   "execution_count": null,
   "metadata": {},
   "outputs": [],
   "source": []
  }
 ],
 "metadata": {
  "kernelspec": {
   "display_name": "Python 3",
   "language": "python",
   "name": "python3"
  },
  "language_info": {
   "codemirror_mode": {
    "name": "ipython",
    "version": 3
   },
   "file_extension": ".py",
   "mimetype": "text/x-python",
   "name": "python",
   "nbconvert_exporter": "python",
   "pygments_lexer": "ipython3",
   "version": "3.6.7"
  }
 },
 "nbformat": 4,
 "nbformat_minor": 2
}
