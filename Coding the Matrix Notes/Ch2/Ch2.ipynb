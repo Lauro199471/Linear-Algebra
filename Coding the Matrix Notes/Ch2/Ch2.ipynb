{
 "cells": [
  {
   "cell_type": "markdown",
   "metadata": {},
   "source": [
    "# The Matrix\n"
   ]
  },
  {
   "cell_type": "markdown",
   "metadata": {},
   "source": [
    "The word __vector__ comes from the Latin for “carrier”. In math it means to move something from one location to another"
   ]
  },
  {
   "cell_type": "markdown",
   "metadata": {},
   "source": [
    "In some traditional math courses on linear algebra, we are taught to think of a vector as a list of numbers: \n",
    "\n",
    "[3.14159,2.718281828,−1.0,2.0]"
   ]
  },
  {
   "cell_type": "markdown",
   "metadata": {},
   "source": [
    "__Deﬁnition:__ A vector with four entries, each of which is a real number, is called a 4-vector over R."
   ]
  },
  {
   "cell_type": "markdown",
   "metadata": {},
   "source": [
    "Matrix:\n",
    "\n",
    "[12 23 31 ]\n",
    " \n",
    " [10 20 30 ]"
   ]
  },
  {
   "cell_type": "markdown",
   "metadata": {},
   "source": [
    "This matrix has two rows and three columns, so we call it a 2×3 matrix. It is traditional to refer to the rows and columns by numbers. Row 1 is( 12 23 31 )and row 2 is( 10 20 30 ); column 1 is (12 10) , column 2 is (23 20) , and column 3 is (31 30)"
   ]
  },
  {
   "cell_type": "markdown",
   "metadata": {},
   "source": [
    "In general, a matrix with m rows and n columns is called an m×n matrix. For a matrix A,the i,j element is deﬁned to be the element in the ith row and the jth column, and is traditionally written Ai,j or Aij. We will often use the Pythonese notation, A[i,j]."
   ]
  },
  {
   "cell_type": "code",
   "execution_count": null,
   "metadata": {},
   "outputs": [],
   "source": []
  }
 ],
 "metadata": {
  "kernelspec": {
   "display_name": "Python 3",
   "language": "python",
   "name": "python3"
  },
  "language_info": {
   "codemirror_mode": {
    "name": "ipython",
    "version": 3
   },
   "file_extension": ".py",
   "mimetype": "text/x-python",
   "name": "python",
   "nbconvert_exporter": "python",
   "pygments_lexer": "ipython3",
   "version": "3.6.7"
  }
 },
 "nbformat": 4,
 "nbformat_minor": 2
}
